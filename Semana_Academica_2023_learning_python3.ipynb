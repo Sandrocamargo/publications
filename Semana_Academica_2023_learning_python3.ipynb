{
  "cells": [
    {
      "cell_type": "markdown",
      "metadata": {
        "deletable": true,
        "editable": true,
        "id": "0y2Maz4SRfmo"
      },
      "source": [
        "## Instruções rápidas sobre as células Jupyter\n",
        "\n",
        "Quando você editar uma célula em um notebook Jupyter e precisar executar novamente a célula, pressione **`<Shift> + <Enter>`**. Isto permite que as mudanças estejam disponíveis para as demais células.\n",
        "\n",
        "Use **`<Enter>`** para criar novas linhas dentro da célula que está sendo editada.\n",
        "\n",
        "#### Células de código\n",
        "\n",
        "A reexecução vai executar qualquer código digitado. Para editar uma célula de código existente, clique nela.\n",
        "\n",
        "#### Células de marcadores\n",
        "\n",
        "A reexecução vai renderizar o texto. Para editar uma célula de texto existente, dê duplo clique nela\n",
        ".\n",
        "\n",
        "<hr>"
      ]
    },
    {
      "cell_type": "markdown",
      "metadata": {
        "deletable": true,
        "editable": true,
        "id": "6dPYrsWWRfmq"
      },
      "source": [
        "## Operações básicas do Jupyter\n",
        "\n",
        "Próximo ao topo da janela do notebook Jupyter, há uma linha de menu de opções (`File`, `Edit`, `View`, `Insert`, ...) e uma linha de ícones de ferramentas (disco, sinal de mais, tesoura, 2 arquivos, clipboard e arquivo, seta para cima, ...).\n",
        "\n",
        "#### Inserindo e removendo células\n",
        "\n",
        "- Use o ícone do \"sinal de mais\" para inserir uma célula abaixo da célula atualmente selecionada\n",
        "- Use \"Insert\" -> \"Insert Cell Above\" no menu para inserir nova célula abaixo\n",
        "\n",
        "#### Limpando a saída das células\n",
        "\n",
        "- Use \"Kernel\" -> \"Restart\" no menu para reiniciar o kernel\n",
        "    - clique em \"clear all outputs & restart\" para ter todas as saídas eliminadas\n",
        "\n",
        "#### Gravando seu arquivo de notebook localmente\n",
        "\n",
        "- Clear a saída de todas as células\n",
        "- Use \"File\" -> \"Download as\" -> \"IPython Notebook (.ipynb)\" para baixar um arquivo de notebook\n",
        "\n",
        "<hr>"
      ]
    },
    {
      "cell_type": "markdown",
      "metadata": {
        "deletable": true,
        "editable": true,
        "id": "X6hocMVzRfmr"
      },
      "source": [
        "## Referências\n",
        "\n",
        "- https://jupyter-notebook.readthedocs.io/en/latest/notebook.html\n",
        "- https://mybinder.readthedocs.io/en/latest/introduction.html\n",
        "- https://docs.python.org/3/tutorial/index.html\n",
        "- https://docs.python.org/3/tutorial/introduction.html\n",
        "- https://daringfireball.net/projects/markdown/syntax\n",
        "\n",
        "<hr>"
      ]
    },
    {
      "cell_type": "markdown",
      "metadata": {
        "deletable": true,
        "editable": true,
        "id": "Cy5exHzJRfms"
      },
      "source": [
        "## Objetos, tipos básicos e variáveis em Python\n",
        "\n",
        "Tudo em Python é um **objeto** e todo objeto em Python tem um **tipo**. Os tipos básicos incluem:\n",
        "\n",
        "- **`int`** (inteiro; um número sem casas decimais)\n",
        "  - `10`\n",
        "  - `-3`\n",
        "- **`float`** (float; um número com casas decimais)\n",
        "  - `7.41`\n",
        "  - `-0.006`\n",
        "- **`str`** (string; uma sequência de caracteres delimitada por aspas simples, aspas tuplas ou aspas triplas)\n",
        "  - `'esta é uma string usando aspas simples'`\n",
        "  - `\"esta é uma string usando aspas duplas\"`\n",
        "  - `'''esta é uma string usando três aspas simples'''`\n",
        "  - `\"\"\"esta é uma string usando três aspas duplas\"\"\"`\n",
        "- **`bool`** (boolean; um valor binário que é verdadeiro ou falso)\n",
        "  - `True`\n",
        "  - `False`\n",
        "- **`NoneType`** (a tipo especial representando a ausência de valor)\n",
        "  - `None`\n",
        "\n",
        "Em Python, uma **variável** é um nome que o programador especifica em seu código mapeando um **objeto** específico, **instância** específica ou valor.\n",
        "\n",
        "Definindo variáveis, o programador pode se referir a coisas pelos nomes que fazem sentido para ele. Nomes para variáveis podem conter apenas letras, sublinhados (`_`), ou números (sem espaços, barras ou outros caracteres). Nomes de variáveis devem iniciar com uma letra ou sublinhado.\n",
        "\n",
        "<hr>"
      ]
    },
    {
      "cell_type": "code",
      "source": [
        "x = 10\n",
        "print(x)\n",
        "\n",
        "y = 10.1\n",
        "print(y)\n",
        "\n",
        "z = \"qualquer coisa\"\n",
        "print(z)\n",
        "\n",
        "r = True\n",
        "print(r)\n",
        "\n",
        "x = \"mudei o valor de x de inteiro para string\"\n",
        "print(x)"
      ],
      "metadata": {
        "colab": {
          "base_uri": "https://localhost:8080/"
        },
        "id": "Yj5IoZrPAY3L",
        "outputId": "d7956017-b532-4b79-92b6-8b163943b299"
      },
      "execution_count": 105,
      "outputs": [
        {
          "output_type": "stream",
          "name": "stdout",
          "text": [
            "10\n",
            "10.1\n",
            "qualquer coisa\n",
            "True\n",
            "mudei o valor de x de inteiro para string\n"
          ]
        }
      ]
    },
    {
      "cell_type": "markdown",
      "source": [
        "## Bases numéricas\n",
        "\n",
        "Em Python, podem ser manipulados números e strings nos formatos binário (bin), octal (oct) e hexadecimal (hex), além do decimal. Estes formatos também podem\n",
        "ser convertidos entre eles.\n",
        "\n",
        "Inteiros (int) podem ser expressos nos formatos binário, octal e hexadecimal pela inserção dos prefixos 0b, 0o e 0x. No entanto, a função print() irá apresentar a saída na notação decimal.\n",
        "\n",
        "As funções bin(), oct() e hex() convertem os números da base original para binário, octal e hexadecimal, respectivamente.\n",
        "\n",
        "A função format(), o método de strings str.format(), and f-strings podem ser usados para mostrar um número ou string em binário, octal ou hexadecimal."
      ],
      "metadata": {
        "id": "-yQe7p0I0yud"
      }
    },
    {
      "cell_type": "code",
      "source": [
        "# Diferentes bases numéricas\n",
        "x = 1010\n",
        "print(x)\n",
        "\n",
        "# 0b é o prefixo de número binário\n",
        "x = 0b1010\n",
        "print(x)\n",
        "\n",
        "# 0o é o prefixo de número octal\n",
        "x = 0o1010\n",
        "print(x)\n",
        "\n",
        "# 0x é o prefixo de número hexadecimal\n",
        "x = 0x1010\n",
        "print(x)"
      ],
      "metadata": {
        "colab": {
          "base_uri": "https://localhost:8080/"
        },
        "id": "glTud8zf3Eyl",
        "outputId": "d2aefaa0-0fcb-4ec8-e4f2-7640b3b1c4ba"
      },
      "execution_count": 88,
      "outputs": [
        {
          "output_type": "stream",
          "name": "stdout",
          "text": [
            "1010\n",
            "10\n",
            "520\n",
            "4112\n",
            "0xff\n",
            "0o377\n",
            "0b11111111\n",
            "11111111\n",
            "377\n",
            "ff\n",
            "0b11111111\n",
            "0o377\n",
            "0xff\n",
            "11111111\n",
            "00000377\n",
            "000000ff\n"
          ]
        }
      ]
    },
    {
      "cell_type": "code",
      "source": [
        "# Conversão entre bases\n",
        "x = 255\n",
        "print(hex(x)) # converte para hexadecimal\n",
        "print(oct(x)) # converte para octal\n",
        "print(bin(x)) # converte para binário"
      ],
      "metadata": {
        "id": "5VIwWXELV5BA"
      },
      "execution_count": null,
      "outputs": []
    },
    {
      "cell_type": "code",
      "source": [
        "# Usar o comando format para apresentar o número em uma base diferente\n",
        "print(format(x, 'b'))\n",
        "print(format(x, 'o'))\n",
        "print(format(x, 'x'))\n",
        "\n",
        "# O hashtag inclui o prefixo da base na apresentação do número\n",
        "print(format(x, '#b'))\n",
        "print(format(x, '#o'))\n",
        "print(format(x, '#x'))\n",
        "\n",
        "# A quantidade de dígitos do número também pode ser especificada\n",
        "print('{:08b}'.format(x))\n",
        "print('{:08o}'.format(x))\n",
        "print('{:08x}'.format(x))"
      ],
      "metadata": {
        "id": "hdtByjHDV8Xi"
      },
      "execution_count": null,
      "outputs": []
    },
    {
      "cell_type": "markdown",
      "source": [
        "## Conversão de números inteiros negativos para complemento de 2\n",
        "\n",
        "As funções bin() e format() convertem inteiros negativos para seus valores absolutos, com o sinal de menos como prefixo.\n",
        "\n",
        "Python executa operadores bit a bit em inteiros negativos na representação em complemento de 2. Então, para representar um número negativo em complemento de 2, deve ser usado o operador bit a bit (&) com o número máximo para a quantidade de dígitos que se quer representar. Por exemplo, use 0b1111 (= 0xf) para 4-bits, 0xff para 8-bits e 0xffff para representar em 16-bits."
      ],
      "metadata": {
        "id": "Pnn-mVgO5jXX"
      }
    },
    {
      "cell_type": "code",
      "source": [
        "x = -9\n",
        "\n",
        "print(x)\n",
        "print(format(x,'#b'))\n",
        "\n",
        "print(bin(x & 0xff))    # 8 bits\n",
        "print(bin(x & 0xffff))  #16 bits"
      ],
      "metadata": {
        "colab": {
          "base_uri": "https://localhost:8080/"
        },
        "id": "wzSEcHja8pnr",
        "outputId": "921b09e6-03f4-4b66-9c6e-8dec44eadec9"
      },
      "execution_count": 93,
      "outputs": [
        {
          "output_type": "stream",
          "name": "stdout",
          "text": [
            "-9\n",
            "-0b1001\n",
            "0b11110111\n",
            "0b1111111111110111\n"
          ]
        }
      ]
    },
    {
      "cell_type": "markdown",
      "metadata": {
        "deletable": true,
        "editable": true,
        "id": "bxMmAtMqRfms"
      },
      "source": [
        "## Operadores Básicos\n",
        "\n",
        "Em Python, há diferentes tipos de **operadores** (símbolos especiais) que operam sobre diferentes valores. Alguns operadores básicos incluem:\n",
        "\n",
        "- operadores aritméticos\n",
        "  - **`+`** (adição)\n",
        "  - **`-`** (subtração)\n",
        "  - **`*`** (multiplicação)\n",
        "  - **`/`** (divisão)\n",
        "  - __`**`__ (exponenciação)\n",
        "\n",
        "- operadores de atribuição\n",
        "  - **`=`** (atribui um valor)\n",
        "  - **`+=`** (adiciona e reatribui; incremento)\n",
        "  - **`-=`** (subtrai e reatribui; decremento)\n",
        "  - **`*=`** (multiplica e reatribui)\n",
        "\n",
        "- operadores de comparação (retorna `True` ou `False`)\n",
        "  - **`==`** (igual)\n",
        "  - **`!=`** (diferente)\n",
        "  - **`<`** (menor que)\n",
        "  - **`<=`** (menor ou igual a)\n",
        "  - **`>`** (maior que)\n",
        "  - **`>=`** (maior ou igual a)\n",
        "\n",
        "Quando múltiplos operadores são usados em uma única expressão, a **ordem de precedência** determina quais partes da expressão são avaliadas em qual ordem. Operadores com maior precedência são avaliados primeiro (like PEMDAS in math). Operadores com a mesma precedência são avaliados da esquerda para a direita.\n",
        "\n",
        "- `()` parênteses para agrupamento\n",
        "- `**` exponenciação\n",
        "- `*`, `/` multiplicação e divisão\n",
        "- `+`, `-` adição e subtração\n",
        "- `==`, `!=`, `<`, `<=`, `>`, `>=` comparação\n",
        "\n",
        "> Veja https://docs.python.org/3/reference/expressions.html#operator-precedence"
      ]
    },
    {
      "cell_type": "code",
      "execution_count": 3,
      "metadata": {
        "deletable": true,
        "editable": true,
        "id": "VHMgZSJeRfmt"
      },
      "outputs": [],
      "source": [
        "# Atribuindo números a diferentes variáveis\n",
        "num1 = 10\n",
        "num2 = -3\n",
        "num3 = 7.41\n",
        "num4 = -.6\n",
        "num5 = 7\n",
        "num6 = 3\n",
        "num7 = 11.11"
      ]
    },
    {
      "cell_type": "code",
      "execution_count": 4,
      "metadata": {
        "deletable": true,
        "editable": true,
        "colab": {
          "base_uri": "https://localhost:8080/"
        },
        "id": "YYvhu8a4Rfmt",
        "outputId": "75a418c7-c748-4648-9c69-9161c84f4bee"
      },
      "outputs": [
        {
          "output_type": "execute_result",
          "data": {
            "text/plain": [
              "7"
            ]
          },
          "metadata": {},
          "execution_count": 4
        }
      ],
      "source": [
        "# Adição\n",
        "num1 + num2"
      ]
    },
    {
      "cell_type": "code",
      "execution_count": 5,
      "metadata": {
        "deletable": true,
        "editable": true,
        "colab": {
          "base_uri": "https://localhost:8080/"
        },
        "id": "EBNhyLSYRfmu",
        "outputId": "026acca7-cf7b-46f3-f401-fa744de5e5e5"
      },
      "outputs": [
        {
          "output_type": "execute_result",
          "data": {
            "text/plain": [
              "-10.41"
            ]
          },
          "metadata": {},
          "execution_count": 5
        }
      ],
      "source": [
        "# Subtração\n",
        "num2 - num3"
      ]
    },
    {
      "cell_type": "code",
      "execution_count": 6,
      "metadata": {
        "deletable": true,
        "editable": true,
        "colab": {
          "base_uri": "https://localhost:8080/"
        },
        "id": "Li_1pJI0Rfmv",
        "outputId": "4ead9a16-0141-4afd-d8a9-b7603014acdf"
      },
      "outputs": [
        {
          "output_type": "execute_result",
          "data": {
            "text/plain": [
              "-4.446"
            ]
          },
          "metadata": {},
          "execution_count": 6
        }
      ],
      "source": [
        "# Multiplicação\n",
        "num3 * num4"
      ]
    },
    {
      "cell_type": "code",
      "execution_count": 7,
      "metadata": {
        "deletable": true,
        "editable": true,
        "colab": {
          "base_uri": "https://localhost:8080/"
        },
        "id": "0YQcsBMkRfmw",
        "outputId": "1506dbaa-4c39-41b0-a793-65698a20108a"
      },
      "outputs": [
        {
          "output_type": "execute_result",
          "data": {
            "text/plain": [
              "-0.08571428571428572"
            ]
          },
          "metadata": {},
          "execution_count": 7
        }
      ],
      "source": [
        "# Divisão\n",
        "num4 / num5"
      ]
    },
    {
      "cell_type": "code",
      "execution_count": 8,
      "metadata": {
        "deletable": true,
        "editable": true,
        "colab": {
          "base_uri": "https://localhost:8080/"
        },
        "id": "jbUVBbjxRfmw",
        "outputId": "46fd5601-4e0d-4a1d-e23f-8c96533ddbd8"
      },
      "outputs": [
        {
          "output_type": "execute_result",
          "data": {
            "text/plain": [
              "343"
            ]
          },
          "metadata": {},
          "execution_count": 8
        }
      ],
      "source": [
        "# Exponenciação\n",
        "num5 ** num6"
      ]
    },
    {
      "cell_type": "code",
      "execution_count": 9,
      "metadata": {
        "deletable": true,
        "editable": true,
        "colab": {
          "base_uri": "https://localhost:8080/"
        },
        "id": "hhREDEr4Rfmx",
        "outputId": "47a2b33a-4426-42af-9f2d-982d3da764a2"
      },
      "outputs": [
        {
          "output_type": "execute_result",
          "data": {
            "text/plain": [
              "15.11"
            ]
          },
          "metadata": {},
          "execution_count": 9
        }
      ],
      "source": [
        "# Incrementar variável existente\n",
        "num7 += 4\n",
        "num7"
      ]
    },
    {
      "cell_type": "code",
      "execution_count": 10,
      "metadata": {
        "deletable": true,
        "editable": true,
        "colab": {
          "base_uri": "https://localhost:8080/"
        },
        "id": "hp0ffSOARfmx",
        "outputId": "a6be0c1c-a774-4c07-c28e-eae03524d9ac"
      },
      "outputs": [
        {
          "output_type": "execute_result",
          "data": {
            "text/plain": [
              "1"
            ]
          },
          "metadata": {},
          "execution_count": 10
        }
      ],
      "source": [
        "# Decrementar variável existente\n",
        "num6 -= 2\n",
        "num6"
      ]
    },
    {
      "cell_type": "code",
      "execution_count": 11,
      "metadata": {
        "deletable": true,
        "editable": true,
        "colab": {
          "base_uri": "https://localhost:8080/"
        },
        "id": "VYZSL1M1Rfmy",
        "outputId": "e4ba4bf7-5797-4229-b683-547fcd301656"
      },
      "outputs": [
        {
          "output_type": "execute_result",
          "data": {
            "text/plain": [
              "37.05"
            ]
          },
          "metadata": {},
          "execution_count": 11
        }
      ],
      "source": [
        "# Multiplicar e reatribuir\n",
        "num3 *= 5\n",
        "num3"
      ]
    },
    {
      "cell_type": "code",
      "execution_count": 12,
      "metadata": {
        "deletable": true,
        "editable": true,
        "colab": {
          "base_uri": "https://localhost:8080/"
        },
        "id": "qUkOlbDtRfmy",
        "outputId": "0b77a04d-7185-44a6-f2af-a0dc827e1d78"
      },
      "outputs": [
        {
          "output_type": "execute_result",
          "data": {
            "text/plain": [
              "-101.14999999999999"
            ]
          },
          "metadata": {},
          "execution_count": 12
        }
      ],
      "source": [
        "# Atribuir o valor de uma expressão a uma variável\n",
        "num8 = num1 + num2 * num3\n",
        "num8"
      ]
    },
    {
      "cell_type": "code",
      "execution_count": 13,
      "metadata": {
        "deletable": true,
        "editable": true,
        "colab": {
          "base_uri": "https://localhost:8080/"
        },
        "id": "qHvce-TZRfmy",
        "outputId": "7fb641d2-ae36-4470-c1ee-c135f942f0d3"
      },
      "outputs": [
        {
          "output_type": "execute_result",
          "data": {
            "text/plain": [
              "True"
            ]
          },
          "metadata": {},
          "execution_count": 13
        }
      ],
      "source": [
        "# Testar se 2 expressões são iguais\n",
        "num1 + num2 == num5"
      ]
    },
    {
      "cell_type": "code",
      "execution_count": 14,
      "metadata": {
        "deletable": true,
        "editable": true,
        "colab": {
          "base_uri": "https://localhost:8080/"
        },
        "id": "izOphsMIRfmz",
        "outputId": "b1d29e41-0348-4d1e-e5b4-b5b21b660ac0"
      },
      "outputs": [
        {
          "output_type": "execute_result",
          "data": {
            "text/plain": [
              "True"
            ]
          },
          "metadata": {},
          "execution_count": 14
        }
      ],
      "source": [
        "# Testar se 2 expressões são diferentes\n",
        "num3 != num4"
      ]
    },
    {
      "cell_type": "code",
      "execution_count": 15,
      "metadata": {
        "deletable": true,
        "editable": true,
        "colab": {
          "base_uri": "https://localhost:8080/"
        },
        "id": "snO3L06ZRfmz",
        "outputId": "0b321693-fda3-4a75-f5db-9567fdb7e979"
      },
      "outputs": [
        {
          "output_type": "execute_result",
          "data": {
            "text/plain": [
              "False"
            ]
          },
          "metadata": {},
          "execution_count": 15
        }
      ],
      "source": [
        "# Comparar se a primeira expressão é igual à segunda\n",
        "num5 < num6"
      ]
    },
    {
      "cell_type": "code",
      "execution_count": 16,
      "metadata": {
        "deletable": true,
        "editable": true,
        "colab": {
          "base_uri": "https://localhost:8080/"
        },
        "id": "rIAFpcnURfmz",
        "outputId": "e0debc29-6cff-48f6-c7ff-68d6a373c496"
      },
      "outputs": [
        {
          "output_type": "execute_result",
          "data": {
            "text/plain": [
              "True"
            ]
          },
          "metadata": {},
          "execution_count": 16
        }
      ],
      "source": [
        "# Verificar se a expressão é verdadeira\n",
        "5 > 3 > 1"
      ]
    },
    {
      "cell_type": "code",
      "execution_count": 17,
      "metadata": {
        "deletable": true,
        "editable": true,
        "colab": {
          "base_uri": "https://localhost:8080/"
        },
        "id": "EqWDcHzaRfmz",
        "outputId": "22a5499c-1a57-4642-eca9-dab1ff18af0a"
      },
      "outputs": [
        {
          "output_type": "execute_result",
          "data": {
            "text/plain": [
              "True"
            ]
          },
          "metadata": {},
          "execution_count": 17
        }
      ],
      "source": [
        "# Verificar se a expressão é verdadeira\n",
        "5 > 3 < 4 == 3 + 1"
      ]
    },
    {
      "cell_type": "code",
      "execution_count": 18,
      "metadata": {
        "collapsed": true,
        "deletable": true,
        "editable": true,
        "id": "tGJkqaV0Rfm0"
      },
      "outputs": [],
      "source": [
        "# Atribuir algumas strings a variáveis diferentes\n",
        "simple_string1 = 'um exemplo'\n",
        "simple_string2 = \"conteudo \""
      ]
    },
    {
      "cell_type": "code",
      "execution_count": 19,
      "metadata": {
        "deletable": true,
        "editable": true,
        "colab": {
          "base_uri": "https://localhost:8080/",
          "height": 35
        },
        "id": "pfBjkhX_Rfm0",
        "outputId": "1532ec69-ee94-4737-d3c4-833cd9152801"
      },
      "outputs": [
        {
          "output_type": "execute_result",
          "data": {
            "text/plain": [
              "'um exemplo usando o operador +'"
            ],
            "application/vnd.google.colaboratory.intrinsic+json": {
              "type": "string"
            }
          },
          "metadata": {},
          "execution_count": 19
        }
      ],
      "source": [
        "# Concatenação\n",
        "simple_string1 + ' usando o operador +'"
      ]
    },
    {
      "cell_type": "code",
      "execution_count": 20,
      "metadata": {
        "deletable": true,
        "editable": true,
        "colab": {
          "base_uri": "https://localhost:8080/",
          "height": 35
        },
        "id": "KuUbU9QCRfm0",
        "outputId": "1423c612-1020-4a5d-bf77-5decf90d3d86"
      },
      "outputs": [
        {
          "output_type": "execute_result",
          "data": {
            "text/plain": [
              "'um exemplo'"
            ],
            "application/vnd.google.colaboratory.intrinsic+json": {
              "type": "string"
            }
          },
          "metadata": {},
          "execution_count": 20
        }
      ],
      "source": [
        "# Verificar que a string não foi modificada\n",
        "simple_string1"
      ]
    },
    {
      "cell_type": "code",
      "execution_count": 21,
      "metadata": {
        "deletable": true,
        "editable": true,
        "colab": {
          "base_uri": "https://localhost:8080/",
          "height": 35
        },
        "id": "ExbS7uiVRfm1",
        "outputId": "face33d4-742e-4d4d-c5aa-851ddb191247"
      },
      "outputs": [
        {
          "output_type": "execute_result",
          "data": {
            "text/plain": [
              "'conteudo conteudo conteudo conteudo '"
            ],
            "application/vnd.google.colaboratory.intrinsic+json": {
              "type": "string"
            }
          },
          "metadata": {},
          "execution_count": 21
        }
      ],
      "source": [
        "# Multiplicação\n",
        "simple_string2 * 4"
      ]
    },
    {
      "cell_type": "code",
      "execution_count": 22,
      "metadata": {
        "deletable": true,
        "editable": true,
        "colab": {
          "base_uri": "https://localhost:8080/",
          "height": 35
        },
        "id": "I76nUA2tRfm1",
        "outputId": "af02ba28-07e7-4774-e125-2cd69f87778c"
      },
      "outputs": [
        {
          "output_type": "execute_result",
          "data": {
            "text/plain": [
              "'conteudo '"
            ],
            "application/vnd.google.colaboratory.intrinsic+json": {
              "type": "string"
            }
          },
          "metadata": {},
          "execution_count": 22
        }
      ],
      "source": [
        "# A outra string também não foi modificada\n",
        "simple_string2"
      ]
    },
    {
      "cell_type": "code",
      "execution_count": 23,
      "metadata": {
        "deletable": true,
        "editable": true,
        "colab": {
          "base_uri": "https://localhost:8080/"
        },
        "id": "FohomZy3Rfm1",
        "outputId": "3dca5348-7d8d-4cc6-e366-06ee594c38c5"
      },
      "outputs": [
        {
          "output_type": "execute_result",
          "data": {
            "text/plain": [
              "False"
            ]
          },
          "metadata": {},
          "execution_count": 23
        }
      ],
      "source": [
        "# Verificar se as expressões são iguais\n",
        "simple_string1 == simple_string2"
      ]
    },
    {
      "cell_type": "code",
      "execution_count": 24,
      "metadata": {
        "deletable": true,
        "editable": true,
        "colab": {
          "base_uri": "https://localhost:8080/"
        },
        "id": "zV2b3iFSRfm1",
        "outputId": "c872fbe0-0556-4943-bc49-70d7eaee1d32"
      },
      "outputs": [
        {
          "output_type": "execute_result",
          "data": {
            "text/plain": [
              "True"
            ]
          },
          "metadata": {},
          "execution_count": 24
        }
      ],
      "source": [
        "# Verificar se as expressões são iguais\n",
        "simple_string1 == 'um exemplo'"
      ]
    },
    {
      "cell_type": "code",
      "execution_count": 25,
      "metadata": {
        "deletable": true,
        "editable": true,
        "colab": {
          "base_uri": "https://localhost:8080/",
          "height": 35
        },
        "id": "SypjSpYGRfm2",
        "outputId": "52815429-c7ed-4c34-a6ea-9052aa847e37"
      },
      "outputs": [
        {
          "output_type": "execute_result",
          "data": {
            "text/plain": [
              "'um exemplo que reatribui a string original'"
            ],
            "application/vnd.google.colaboratory.intrinsic+json": {
              "type": "string"
            }
          },
          "metadata": {},
          "execution_count": 25
        }
      ],
      "source": [
        "# Concatenar e reatribuir\n",
        "simple_string1 += ' que reatribui a string original'\n",
        "simple_string1"
      ]
    },
    {
      "cell_type": "code",
      "execution_count": 26,
      "metadata": {
        "deletable": true,
        "editable": true,
        "colab": {
          "base_uri": "https://localhost:8080/",
          "height": 35
        },
        "id": "UU1NMbdDRfm2",
        "outputId": "caebfb21-ac11-4493-9e78-6864cd586f70"
      },
      "outputs": [
        {
          "output_type": "execute_result",
          "data": {
            "text/plain": [
              "'conteudo conteudo conteudo '"
            ],
            "application/vnd.google.colaboratory.intrinsic+json": {
              "type": "string"
            }
          },
          "metadata": {},
          "execution_count": 26
        }
      ],
      "source": [
        "# Multiplicar e reatribuir\n",
        "simple_string2 *= 3\n",
        "simple_string2"
      ]
    },
    {
      "cell_type": "code",
      "execution_count": 27,
      "metadata": {
        "collapsed": true,
        "deletable": true,
        "editable": true,
        "id": "Av6Ty-ShRfm2"
      },
      "outputs": [],
      "source": [
        "# Observação: Operadores de subtração, divisão e decremento não se aplicam a strings"
      ]
    },
    {
      "cell_type": "markdown",
      "source": [
        "# Atividades\n",
        "\n",
        "1) Faça uma calculadora que receba dois valores e mostre o resultado da adição. Utilize a função input(\"Informe um valor\") para receber o valor e armazenar na variável. Exemplo: valor1 = input()\n",
        "\n",
        "2) Faça uma calculadora que receba dois valores e mostre o resultado da adição em binário.\n",
        "\n",
        "3) Faça uma calculadora que receba dois valores e mostre o resultado da adição em binário com 16-bits.\n"
      ],
      "metadata": {
        "id": "XI93tYu2B5eW"
      }
    },
    {
      "cell_type": "code",
      "source": [],
      "metadata": {
        "id": "UyCC4mgfC2Hn"
      },
      "execution_count": 104,
      "outputs": []
    },
    {
      "cell_type": "markdown",
      "metadata": {
        "deletable": true,
        "editable": true,
        "id": "y-Vav8vPRfm3"
      },
      "source": [
        "## Containers Básicos\n",
        "\n",
        "> Observação: objetos **mutáveis** podem ser modificados após a criação e objetos **imutáveis** não podem.\n",
        "\n",
        "Containers são objetos que podem ser usados para agrupar outros objetos. Os  tipos básicos de containers incluem:\n",
        "\n",
        "- **`str`** (string: imutável; indexado por inteiros; itens são armazenados na ordem em que eles foram incluídos)\n",
        "- **`list`** (lista: mutável; indexado por inteiros; itens são armazenados na ordem em que eles foram incluídos)\n",
        "  - `[3, 5, 6, 3, 'dog', 'cat', False]`\n",
        "- **`tuple`** (tupla: imutável; indexado por inteiros; itens são armazenados na ordem em que eles foram incluídos)\n",
        "  - `(3, 5, 6, 3, 'dog', 'cat', False)`\n",
        "- **`set`** (conjunto: mutável; não indexado; itens NÃO são armazenados na ordem em que eles foram incluídos; pode apenas conter objetos imutáveis; NÃO contém objetos duplicados)\n",
        "  - `{3, 5, 6, 3, 'dog', 'cat', False}`\n",
        "- **`dict`** (dicionário: mutável; pares valor-chave são indexados por chaves imutáveis; itens NÃO são armazenados na ordem em que eles foram indexados)\n",
        "  - `{'nome': 'Maria', 'idade': 10, 'comidas_favoritas': ['pizza', 'fruta', 'peixe']}`\n",
        "\n",
        "Ao definir litas, tuplas ou conjuntos, use vírgulas (,) para separar itens individuais. Ao definir dicionários, use dois pontos (:) para separar chaves de valores e vírgulas (,) para separar pares chave-valor.\n",
        "\n",
        "Strings, listas, e tuplas são todos **tipos de sequências** que podem usar os operadores `+`, `*`, `+=`, e `*=`."
      ]
    },
    {
      "cell_type": "code",
      "execution_count": 28,
      "metadata": {
        "collapsed": true,
        "deletable": true,
        "editable": true,
        "id": "dWJDK4o-Rfm3"
      },
      "outputs": [],
      "source": [
        "# Atribui diferentes variáveis a containers\n",
        "list1 = [2, 5, 6, 2, 'cachorro', 'gato', False]\n",
        "tuple1 = (2, 5, 6, 2, 'cachorro', 'gato', False)\n",
        "set1 = {2, 5, 6, 2, 'cachorro', 'gato', False}\n",
        "dict1 = {'nome': 'Maria', 'idade': 10, 'comidas_favoritas': ['pizza', 'fruta', 'peixe']}"
      ]
    },
    {
      "cell_type": "code",
      "execution_count": 29,
      "metadata": {
        "deletable": true,
        "editable": true,
        "colab": {
          "base_uri": "https://localhost:8080/"
        },
        "id": "E2RQQu-dRfm4",
        "outputId": "1876e79c-b68a-4792-c94b-019d3a4d5492"
      },
      "outputs": [
        {
          "output_type": "execute_result",
          "data": {
            "text/plain": [
              "[3, 5, 6, 3, 'cachorro', 'gato', False]"
            ]
          },
          "metadata": {},
          "execution_count": 29
        }
      ],
      "source": [
        "# Itens na lista de objetos são armazenados na ordem em que eles foram incluídos\n",
        "list1"
      ]
    },
    {
      "cell_type": "code",
      "execution_count": 30,
      "metadata": {
        "deletable": true,
        "editable": true,
        "colab": {
          "base_uri": "https://localhost:8080/"
        },
        "id": "xmZoKIq5Rfm4",
        "outputId": "4d5a575e-0f31-4651-a938-f3d4eff5c543"
      },
      "outputs": [
        {
          "output_type": "execute_result",
          "data": {
            "text/plain": [
              "(3, 5, 6, 3, 'cachorro', 'gato', False)"
            ]
          },
          "metadata": {},
          "execution_count": 30
        }
      ],
      "source": [
        "# Itens na tupla de objetos são armazenados na ordem em que eles foram incluídos\n",
        "tuple1"
      ]
    },
    {
      "cell_type": "code",
      "execution_count": 31,
      "metadata": {
        "deletable": true,
        "editable": true,
        "colab": {
          "base_uri": "https://localhost:8080/"
        },
        "id": "R6-5p1ApRfm4",
        "outputId": "e93800d2-19ca-4db4-875b-ec917d6ec681"
      },
      "outputs": [
        {
          "output_type": "execute_result",
          "data": {
            "text/plain": [
              "{3, 5, 6, False, 'cachorro', 'gato'}"
            ]
          },
          "metadata": {},
          "execution_count": 31
        }
      ],
      "source": [
        "# Itens no conjunto de objetos não são armazenados na ordem em que eles foram incluídos\n",
        "# Observe também que o valor 3 aparece apenas uma vez neste conjunto\n",
        "set1"
      ]
    },
    {
      "cell_type": "code",
      "execution_count": 32,
      "metadata": {
        "deletable": true,
        "editable": true,
        "colab": {
          "base_uri": "https://localhost:8080/"
        },
        "id": "aDr9Fr_kRfm4",
        "outputId": "09e0c119-a710-4c7f-c4ad-896961effb82"
      },
      "outputs": [
        {
          "output_type": "execute_result",
          "data": {
            "text/plain": [
              "{'nome': 'Maria',\n",
              " 'idade': 10,\n",
              " 'comidas_favoritas': ['pizza', 'fruta', 'peixe']}"
            ]
          },
          "metadata": {},
          "execution_count": 32
        }
      ],
      "source": [
        "# Itens no objeto dicionário não são armazenados na ordem em que eles foram incluídos\n",
        "dict1"
      ]
    },
    {
      "cell_type": "code",
      "execution_count": 33,
      "metadata": {
        "deletable": true,
        "editable": true,
        "colab": {
          "base_uri": "https://localhost:8080/"
        },
        "id": "cbM9peG6Rfm5",
        "outputId": "a775dc5d-9fb4-43b1-afc1-0c171c0f4325"
      },
      "outputs": [
        {
          "output_type": "execute_result",
          "data": {
            "text/plain": [
              "[3, 5, 6, 3, 'cachorro', 'gato', False, 5, 'uvas']"
            ]
          },
          "metadata": {},
          "execution_count": 33
        }
      ],
      "source": [
        "# Adicionar e reatribuir\n",
        "list1 += [5, 'uvas']\n",
        "list1"
      ]
    },
    {
      "cell_type": "code",
      "execution_count": 34,
      "metadata": {
        "deletable": true,
        "editable": true,
        "colab": {
          "base_uri": "https://localhost:8080/"
        },
        "id": "xgQjWOglRfm5",
        "outputId": "1004c0c0-d013-4948-cfe4-1da0cc32123a"
      },
      "outputs": [
        {
          "output_type": "execute_result",
          "data": {
            "text/plain": [
              "(3, 5, 6, 3, 'cachorro', 'gato', False, 5, 'uvas')"
            ]
          },
          "metadata": {},
          "execution_count": 34
        }
      ],
      "source": [
        "# Adicionar e reatribuir\n",
        "tuple1 += (5, 'uvas')\n",
        "tuple1"
      ]
    },
    {
      "cell_type": "code",
      "execution_count": 35,
      "metadata": {
        "deletable": true,
        "editable": true,
        "colab": {
          "base_uri": "https://localhost:8080/"
        },
        "id": "Rsu_VwCkRfm5",
        "outputId": "2d921f18-5e68-4524-d959-ff1237ce5298"
      },
      "outputs": [
        {
          "output_type": "execute_result",
          "data": {
            "text/plain": [
              "[1, 2, 3, 4, 1, 2, 3, 4]"
            ]
          },
          "metadata": {},
          "execution_count": 35
        }
      ],
      "source": [
        "# Repetir\n",
        "[1, 2, 3, 4] * 2"
      ]
    },
    {
      "cell_type": "code",
      "execution_count": 36,
      "metadata": {
        "deletable": true,
        "editable": true,
        "colab": {
          "base_uri": "https://localhost:8080/"
        },
        "id": "8_fBCOQbRfm5",
        "outputId": "de37685f-2105-4716-af34-562e67a5d226"
      },
      "outputs": [
        {
          "output_type": "execute_result",
          "data": {
            "text/plain": [
              "(1, 2, 3, 4, 1, 2, 3, 4, 1, 2, 3, 4)"
            ]
          },
          "metadata": {},
          "execution_count": 36
        }
      ],
      "source": [
        "# Repetir\n",
        "(1, 2, 3, 4) * 3"
      ]
    },
    {
      "cell_type": "markdown",
      "metadata": {
        "deletable": true,
        "editable": true,
        "id": "Gdg5OvSxRfm6"
      },
      "source": [
        "## Acessando dados em containers\n",
        "\n",
        "Para strings, listas, tuplas, e dicionários, pode ser usada **a notação subscrita** (colchetes) para acessar um índice.\n",
        "\n",
        "- strings, listas e duplas são indexadas por números inteiros, **iniciando em 0** para o primeiro item\n",
        "  - estes tipos de sequências também suportam o acesso a uma faixa de itens, conhecido como **fatiamento**\n",
        "  - use **índices negativos** para iniciar a partir do final da sequência\n",
        "- dicionários são indexados por suas chaves\n",
        "\n",
        "> Observação: conjuntos não são indexados, então não podem usar a notação subscrita para acessar elementos de dadso."
      ]
    },
    {
      "cell_type": "code",
      "execution_count": 37,
      "metadata": {
        "deletable": true,
        "editable": true,
        "colab": {
          "base_uri": "https://localhost:8080/"
        },
        "id": "-0T2QwkRRfm6",
        "outputId": "975dc22c-3694-4bd5-e000-2c6aee8435ad"
      },
      "outputs": [
        {
          "output_type": "execute_result",
          "data": {
            "text/plain": [
              "3"
            ]
          },
          "metadata": {},
          "execution_count": 37
        }
      ],
      "source": [
        "# Obtendo o primeiro item em uma sequência\n",
        "list1[0]"
      ]
    },
    {
      "cell_type": "code",
      "execution_count": 38,
      "metadata": {
        "deletable": true,
        "editable": true,
        "colab": {
          "base_uri": "https://localhost:8080/",
          "height": 35
        },
        "id": "hHZRnsMDRfm6",
        "outputId": "5cec41f3-1120-413d-9aae-6b968eed3de4"
      },
      "outputs": [
        {
          "output_type": "execute_result",
          "data": {
            "text/plain": [
              "'uvas'"
            ],
            "application/vnd.google.colaboratory.intrinsic+json": {
              "type": "string"
            }
          },
          "metadata": {},
          "execution_count": 38
        }
      ],
      "source": [
        "# Obtendo o último item em uma sequência\n",
        "tuple1[-1]"
      ]
    },
    {
      "cell_type": "code",
      "execution_count": 39,
      "metadata": {
        "deletable": true,
        "editable": true,
        "colab": {
          "base_uri": "https://localhost:8080/",
          "height": 35
        },
        "id": "-JecB5uuRfm6",
        "outputId": "2126e72d-2f25-4c17-abb0-bbf8ad3f23a2"
      },
      "outputs": [
        {
          "output_type": "execute_result",
          "data": {
            "text/plain": [
              "'exemp'"
            ],
            "application/vnd.google.colaboratory.intrinsic+json": {
              "type": "string"
            }
          },
          "metadata": {},
          "execution_count": 39
        }
      ],
      "source": [
        "# Obtendo uma faixa de itens em uma sequência\n",
        "simple_string1[3:8]"
      ]
    },
    {
      "cell_type": "code",
      "execution_count": 40,
      "metadata": {
        "deletable": true,
        "editable": true,
        "colab": {
          "base_uri": "https://localhost:8080/"
        },
        "id": "q7dpOfanRfm7",
        "outputId": "35896aa0-9a42-4917-8c01-162c7218c154"
      },
      "outputs": [
        {
          "output_type": "execute_result",
          "data": {
            "text/plain": [
              "(3, 5, 6, 3, 'cachorro', 'gato')"
            ]
          },
          "metadata": {},
          "execution_count": 40
        }
      ],
      "source": [
        "# Obtendo uma faixa de itens em uma sequência\n",
        "tuple1[:-3]"
      ]
    },
    {
      "cell_type": "code",
      "execution_count": 41,
      "metadata": {
        "deletable": true,
        "editable": true,
        "colab": {
          "base_uri": "https://localhost:8080/"
        },
        "id": "lN_6GXvMRfm7",
        "outputId": "6bb64952-ee7d-4f59-d883-84998449dc3c"
      },
      "outputs": [
        {
          "output_type": "execute_result",
          "data": {
            "text/plain": [
              "['cachorro', 'gato', False, 5, 'uvas']"
            ]
          },
          "metadata": {},
          "execution_count": 41
        }
      ],
      "source": [
        "# Obtendo uma faixa de itens em uma sequência\n",
        "list1[4:]"
      ]
    },
    {
      "cell_type": "code",
      "execution_count": 42,
      "metadata": {
        "deletable": true,
        "editable": true,
        "colab": {
          "base_uri": "https://localhost:8080/",
          "height": 35
        },
        "id": "F-WjRCxtRfm8",
        "outputId": "1076deb6-d4e3-4c09-d0e0-b492761fbee9"
      },
      "outputs": [
        {
          "output_type": "execute_result",
          "data": {
            "text/plain": [
              "'Maria'"
            ],
            "application/vnd.google.colaboratory.intrinsic+json": {
              "type": "string"
            }
          },
          "metadata": {},
          "execution_count": 42
        }
      ],
      "source": [
        "# Obtendo um item em um dicionário\n",
        "dict1['nome']"
      ]
    },
    {
      "cell_type": "code",
      "execution_count": 43,
      "metadata": {
        "deletable": true,
        "editable": true,
        "colab": {
          "base_uri": "https://localhost:8080/",
          "height": 35
        },
        "id": "h02BI7MFRfm8",
        "outputId": "e81176fd-744b-45fd-946d-98e048e3ed09"
      },
      "outputs": [
        {
          "output_type": "execute_result",
          "data": {
            "text/plain": [
              "'peixe'"
            ],
            "application/vnd.google.colaboratory.intrinsic+json": {
              "type": "string"
            }
          },
          "metadata": {},
          "execution_count": 43
        }
      ],
      "source": [
        "# Acessando um elemento de uma sequência em um dicionário\n",
        "dict1['comidas_favoritas'][2]"
      ]
    },
    {
      "cell_type": "markdown",
      "metadata": {
        "deletable": true,
        "editable": true,
        "id": "vjZmlPONRfm9"
      },
      "source": [
        "## Funções e objetos chamáveis do core do Python\n",
        "\n",
        "\n",
        "Uma **function** é um objeto Python que vai ser \"chamada\" para **executar uma ação** ou calcular e **retornar outro objeto**. Uma função é chamada através do seu nome seguido de parênteses. Algumas funções permite a passagem de **argumentos** dentro dos parênteses (separando múltiplos argumentos por vírgula). Dentro da função, estes argumentos são tratados como variáveis.\n",
        "\n",
        "Python tem diversar funções úteis no seu core para ajudar a manipulação de diferentes objetos e/ou seu ambiente. A seguir há uma pequena amostra das funções:\n",
        "\n",
        "- **`type(obj)`** para determinar o tipo de um objeto\n",
        "- **`len(container)`** para determinar quantos itens há em um container\n",
        "- **`callable(obj)`** para determinar se um objeto é chamavel\n",
        "- **`sorted(container)`** para retornar uma nova lista a partir de um container, com os itens ordenados\n",
        "- **`sum(container)`** para calcular a soma dos números de um container\n",
        "- **`min(container)`** para determinar o menor item em um container\n",
        "- **`max(container)`** para determinar o maior item em um container\n",
        "- **`abs(number)`** para determinar o valor absoluto de um número\n",
        "- **`repr(obj)`** para retornar uma representação string de um objeto\n",
        "\n",
        "> A lista completa das funções do core está disponível em: https://docs.python.org/3/library/functions.html\n",
        "\n",
        "Há também diferentes modos de definir suas próprias funções e objetos chamável."
      ]
    },
    {
      "cell_type": "code",
      "execution_count": 44,
      "metadata": {
        "deletable": true,
        "editable": true,
        "colab": {
          "base_uri": "https://localhost:8080/"
        },
        "id": "74Hm0TqGRfm9",
        "outputId": "a8e0163e-350c-4051-d502-f2d87a877e18"
      },
      "outputs": [
        {
          "output_type": "execute_result",
          "data": {
            "text/plain": [
              "str"
            ]
          },
          "metadata": {},
          "execution_count": 44
        }
      ],
      "source": [
        "# Usando a função type() para determinar o tipo de um objeto\n",
        "type(simple_string1)"
      ]
    },
    {
      "cell_type": "code",
      "execution_count": 45,
      "metadata": {
        "deletable": true,
        "editable": true,
        "colab": {
          "base_uri": "https://localhost:8080/"
        },
        "id": "_S5gjsm1Rfm-",
        "outputId": "e5e0ebe0-7fc6-46c6-fc93-12af03d59da3"
      },
      "outputs": [
        {
          "output_type": "execute_result",
          "data": {
            "text/plain": [
              "3"
            ]
          },
          "metadata": {},
          "execution_count": 45
        }
      ],
      "source": [
        "# Usando a função len() para determinar quantos itens estão em um container\n",
        "len(dict1)"
      ]
    },
    {
      "cell_type": "code",
      "execution_count": 46,
      "metadata": {
        "deletable": true,
        "editable": true,
        "colab": {
          "base_uri": "https://localhost:8080/"
        },
        "id": "gGfRKwL3Rfm-",
        "outputId": "fb74b7ac-2a55-4821-980f-2ac12ea19162"
      },
      "outputs": [
        {
          "output_type": "execute_result",
          "data": {
            "text/plain": [
              "27"
            ]
          },
          "metadata": {},
          "execution_count": 46
        }
      ],
      "source": [
        "# Usando a função len() para determinar quantos itens estão em um container\n",
        "len(simple_string2)"
      ]
    },
    {
      "cell_type": "code",
      "execution_count": 47,
      "metadata": {
        "deletable": true,
        "editable": true,
        "colab": {
          "base_uri": "https://localhost:8080/"
        },
        "id": "IUZZxiEgRfm-",
        "outputId": "07530546-a629-40e3-9e51-18adeec1febd"
      },
      "outputs": [
        {
          "output_type": "execute_result",
          "data": {
            "text/plain": [
              "True"
            ]
          },
          "metadata": {},
          "execution_count": 47
        }
      ],
      "source": [
        "# Usando a função callable() para determinar se um objeto pode ser chamado\n",
        "callable(len)"
      ]
    },
    {
      "cell_type": "code",
      "execution_count": 48,
      "metadata": {
        "deletable": true,
        "editable": true,
        "colab": {
          "base_uri": "https://localhost:8080/"
        },
        "id": "7T9K5TYqRfm_",
        "outputId": "00c81649-6011-46f6-95c7-55af1ee783b0"
      },
      "outputs": [
        {
          "output_type": "execute_result",
          "data": {
            "text/plain": [
              "False"
            ]
          },
          "metadata": {},
          "execution_count": 48
        }
      ],
      "source": [
        "# Usando a função callable() para determinar se um objeto pode ser chamado\n",
        "callable(dict1)"
      ]
    },
    {
      "cell_type": "code",
      "execution_count": 49,
      "metadata": {
        "deletable": true,
        "editable": true,
        "colab": {
          "base_uri": "https://localhost:8080/"
        },
        "id": "XfA8coQaRfm_",
        "outputId": "b8523981-dcc2-46f9-a53d-56aa27f4c54d"
      },
      "outputs": [
        {
          "output_type": "execute_result",
          "data": {
            "text/plain": [
              "[-3, 1, 2, 3.6, 5, 7, 10]"
            ]
          },
          "metadata": {},
          "execution_count": 49
        }
      ],
      "source": [
        "# Usando a função sorted() para retornar uma nova lista a partir de um container com itens ordenados\n",
        "sorted([10, 1, 3.6, 7, 5, 2, -3])"
      ]
    },
    {
      "cell_type": "code",
      "execution_count": 50,
      "metadata": {
        "deletable": true,
        "editable": true,
        "colab": {
          "base_uri": "https://localhost:8080/"
        },
        "id": "VOeE5g0kRfm_",
        "outputId": "578265dd-6be9-4bd0-fc3d-9804e4cb89b8"
      },
      "outputs": [
        {
          "output_type": "execute_result",
          "data": {
            "text/plain": [
              "['Bagé', 'Dom Pedrito', 'cachorros', 'cavalos', 'formigas', 'gatos', 'ratos']"
            ]
          },
          "metadata": {},
          "execution_count": 50
        }
      ],
      "source": [
        "# Usandro a função sorted() function para retornar uma nova lista a partir de um container com itens ordenados\n",
        "# - observe que letras maiúsculas aparecem primeiro\n",
        "sorted(['cachorros', 'gatos', 'cavalos', 'Bagé', 'Dom Pedrito', 'formigas', 'ratos'])"
      ]
    },
    {
      "cell_type": "code",
      "execution_count": 51,
      "metadata": {
        "deletable": true,
        "editable": true,
        "colab": {
          "base_uri": "https://localhost:8080/"
        },
        "id": "nMKr1KGLRfm_",
        "outputId": "36467c0a-23db-4b86-b387-71b742e52000"
      },
      "outputs": [
        {
          "output_type": "execute_result",
          "data": {
            "text/plain": [
              "25.6"
            ]
          },
          "metadata": {},
          "execution_count": 51
        }
      ],
      "source": [
        "# Usando a função sum() para calcular a soma dos números de um container\n",
        "sum([10, 1, 3.6, 7, 5, 2, -3])"
      ]
    },
    {
      "cell_type": "code",
      "execution_count": 52,
      "metadata": {
        "deletable": true,
        "editable": true,
        "colab": {
          "base_uri": "https://localhost:8080/"
        },
        "id": "1eg_M2NnRfnA",
        "outputId": "0a2f7f2f-be46-470b-b6b9-e3df97f1e2fe"
      },
      "outputs": [
        {
          "output_type": "execute_result",
          "data": {
            "text/plain": [
              "-3"
            ]
          },
          "metadata": {},
          "execution_count": 52
        }
      ],
      "source": [
        "# Usando a função min() para determinar o menor número em um container\n",
        "min([10, 1, 3.6, 7, 5, 2, -3])"
      ]
    },
    {
      "cell_type": "code",
      "execution_count": 53,
      "metadata": {
        "deletable": true,
        "editable": true,
        "colab": {
          "base_uri": "https://localhost:8080/",
          "height": 35
        },
        "id": "dZt0PdtfRfnA",
        "outputId": "ff22b2c3-c8d6-43d4-e017-9f2a87bca17b"
      },
      "outputs": [
        {
          "output_type": "execute_result",
          "data": {
            "text/plain": [
              "'a'"
            ],
            "application/vnd.google.colaboratory.intrinsic+json": {
              "type": "string"
            }
          },
          "metadata": {},
          "execution_count": 53
        }
      ],
      "source": [
        "# Usando a função min() para determinar o menor item em um container\n",
        "min(['g', 'z', 'a', 'y'])"
      ]
    },
    {
      "cell_type": "code",
      "execution_count": 54,
      "metadata": {
        "deletable": true,
        "editable": true,
        "colab": {
          "base_uri": "https://localhost:8080/"
        },
        "id": "Qq4t5nqXRfnA",
        "outputId": "f9c79011-71b8-4cc9-edf1-84a9fc91e7f3"
      },
      "outputs": [
        {
          "output_type": "execute_result",
          "data": {
            "text/plain": [
              "10"
            ]
          },
          "metadata": {},
          "execution_count": 54
        }
      ],
      "source": [
        "# Usando a função max() para determinar o maior número em um container\n",
        "max([10, 1, 3.6, 7, 5, 2, -3])"
      ]
    },
    {
      "cell_type": "code",
      "execution_count": 55,
      "metadata": {
        "deletable": true,
        "editable": true,
        "colab": {
          "base_uri": "https://localhost:8080/",
          "height": 35
        },
        "id": "gQhL7dGxRfnB",
        "outputId": "1af5c114-8026-4b17-eb6d-60c4d9700b9c"
      },
      "outputs": [
        {
          "output_type": "execute_result",
          "data": {
            "text/plain": [
              "'r'"
            ],
            "application/vnd.google.colaboratory.intrinsic+json": {
              "type": "string"
            }
          },
          "metadata": {},
          "execution_count": 55
        }
      ],
      "source": [
        "# Usando a função max() para determinar o maior item em um container\n",
        "max('barbaridade')"
      ]
    },
    {
      "cell_type": "code",
      "execution_count": 56,
      "metadata": {
        "deletable": true,
        "editable": true,
        "colab": {
          "base_uri": "https://localhost:8080/"
        },
        "id": "t__g_PT3RfnC",
        "outputId": "ea13fc3f-7ad8-489d-fe9e-56a3d10c0004"
      },
      "outputs": [
        {
          "output_type": "execute_result",
          "data": {
            "text/plain": [
              "10"
            ]
          },
          "metadata": {},
          "execution_count": 56
        }
      ],
      "source": [
        "# Usando a função abs() para determinar o valor absoluto de um número\n",
        "abs(10)"
      ]
    },
    {
      "cell_type": "code",
      "execution_count": 57,
      "metadata": {
        "deletable": true,
        "editable": true,
        "colab": {
          "base_uri": "https://localhost:8080/"
        },
        "id": "f4LJfY-ORfnC",
        "outputId": "e880209e-13cf-4367-e779-70c0a40f24ee"
      },
      "outputs": [
        {
          "output_type": "execute_result",
          "data": {
            "text/plain": [
              "12"
            ]
          },
          "metadata": {},
          "execution_count": 57
        }
      ],
      "source": [
        "# Usando a função abs() para determinar o valor absoluto de um número\n",
        "abs(-12)"
      ]
    },
    {
      "cell_type": "code",
      "execution_count": 58,
      "metadata": {
        "deletable": true,
        "editable": true,
        "colab": {
          "base_uri": "https://localhost:8080/",
          "height": 35
        },
        "id": "CimANOd-RfnC",
        "outputId": "4e9d6fca-699e-4821-cc3a-ddc7598a6bb9"
      },
      "outputs": [
        {
          "output_type": "execute_result",
          "data": {
            "text/plain": [
              "\"{'gato', False, 3, 'cachorro', 5, 6}\""
            ],
            "application/vnd.google.colaboratory.intrinsic+json": {
              "type": "string"
            }
          },
          "metadata": {},
          "execution_count": 58
        }
      ],
      "source": [
        "# Usando a função repr() para retornar uma representação string de um objeto\n",
        "repr(set1)"
      ]
    },
    {
      "cell_type": "markdown",
      "metadata": {
        "deletable": true,
        "editable": true,
        "id": "C2LRFXsWRfnC"
      },
      "source": [
        "## Python object attributes (methods and properties)\n",
        "\n",
        "Diferentes tipos de objetos em Python tem diferentes **atributos** que podem ser referenciados pelo nome (similar a uma variável). Para acessar um atributo de um objeto, use um ponto (`.`) após o nome do objeto, e especifique o atributo (ex: `obj.attribute`)\n",
        "\n",
        "Quando um atributo de um objeto é chamável, este atributo é chamado um  **método**. É o mesmo que uma função, que está ligada a um objeto específico.\n",
        "\n",
        "Quando um atributo de um objeto não é chamável, este atributo é chamado uma  **propriedade**. É apenas um elemento de dados sobre o objeto, sendo considerado outro objeto.\n",
        "\n",
        "A função `dir()` pode ser usada para retornar uma lista dos atributos dos objetos.\n",
        "\n",
        "<hr>"
      ]
    },
    {
      "cell_type": "code",
      "source": [
        "dir()"
      ],
      "metadata": {
        "colab": {
          "base_uri": "https://localhost:8080/"
        },
        "id": "eIGXMM5TXFi2",
        "outputId": "f5e6a48f-af72-4a15-949c-7a73ee544b32"
      },
      "execution_count": 106,
      "outputs": [
        {
          "output_type": "execute_result",
          "data": {
            "text/plain": [
              "['DictThing',\n",
              " 'In',\n",
              " 'Out',\n",
              " 'Thing',\n",
              " '_',\n",
              " '_10',\n",
              " '_11',\n",
              " '_12',\n",
              " '_13',\n",
              " '_14',\n",
              " '_15',\n",
              " '_16',\n",
              " '_17',\n",
              " '_19',\n",
              " '_20',\n",
              " '_21',\n",
              " '_22',\n",
              " '_23',\n",
              " '_24',\n",
              " '_25',\n",
              " '_26',\n",
              " '_29',\n",
              " '_30',\n",
              " '_31',\n",
              " '_32',\n",
              " '_33',\n",
              " '_34',\n",
              " '_35',\n",
              " '_36',\n",
              " '_37',\n",
              " '_38',\n",
              " '_39',\n",
              " '_4',\n",
              " '_40',\n",
              " '_41',\n",
              " '_42',\n",
              " '_43',\n",
              " '_44',\n",
              " '_45',\n",
              " '_46',\n",
              " '_47',\n",
              " '_48',\n",
              " '_49',\n",
              " '_5',\n",
              " '_50',\n",
              " '_51',\n",
              " '_52',\n",
              " '_53',\n",
              " '_54',\n",
              " '_55',\n",
              " '_56',\n",
              " '_57',\n",
              " '_58',\n",
              " '_6',\n",
              " '_60',\n",
              " '_61',\n",
              " '_62',\n",
              " '_63',\n",
              " '_64',\n",
              " '_65',\n",
              " '_66',\n",
              " '_67',\n",
              " '_68',\n",
              " '_69',\n",
              " '_7',\n",
              " '_70',\n",
              " '_71',\n",
              " '_72',\n",
              " '_8',\n",
              " '_9',\n",
              " '__',\n",
              " '___',\n",
              " '__builtin__',\n",
              " '__builtins__',\n",
              " '__doc__',\n",
              " '__loader__',\n",
              " '__name__',\n",
              " '__package__',\n",
              " '__spec__',\n",
              " '_dh',\n",
              " '_i',\n",
              " '_i1',\n",
              " '_i10',\n",
              " '_i100',\n",
              " '_i101',\n",
              " '_i102',\n",
              " '_i103',\n",
              " '_i104',\n",
              " '_i105',\n",
              " '_i106',\n",
              " '_i11',\n",
              " '_i12',\n",
              " '_i13',\n",
              " '_i14',\n",
              " '_i15',\n",
              " '_i16',\n",
              " '_i17',\n",
              " '_i18',\n",
              " '_i19',\n",
              " '_i2',\n",
              " '_i20',\n",
              " '_i21',\n",
              " '_i22',\n",
              " '_i23',\n",
              " '_i24',\n",
              " '_i25',\n",
              " '_i26',\n",
              " '_i27',\n",
              " '_i28',\n",
              " '_i29',\n",
              " '_i3',\n",
              " '_i30',\n",
              " '_i31',\n",
              " '_i32',\n",
              " '_i33',\n",
              " '_i34',\n",
              " '_i35',\n",
              " '_i36',\n",
              " '_i37',\n",
              " '_i38',\n",
              " '_i39',\n",
              " '_i4',\n",
              " '_i40',\n",
              " '_i41',\n",
              " '_i42',\n",
              " '_i43',\n",
              " '_i44',\n",
              " '_i45',\n",
              " '_i46',\n",
              " '_i47',\n",
              " '_i48',\n",
              " '_i49',\n",
              " '_i5',\n",
              " '_i50',\n",
              " '_i51',\n",
              " '_i52',\n",
              " '_i53',\n",
              " '_i54',\n",
              " '_i55',\n",
              " '_i56',\n",
              " '_i57',\n",
              " '_i58',\n",
              " '_i59',\n",
              " '_i6',\n",
              " '_i60',\n",
              " '_i61',\n",
              " '_i62',\n",
              " '_i63',\n",
              " '_i64',\n",
              " '_i65',\n",
              " '_i66',\n",
              " '_i67',\n",
              " '_i68',\n",
              " '_i69',\n",
              " '_i7',\n",
              " '_i70',\n",
              " '_i71',\n",
              " '_i72',\n",
              " '_i73',\n",
              " '_i74',\n",
              " '_i75',\n",
              " '_i76',\n",
              " '_i77',\n",
              " '_i78',\n",
              " '_i79',\n",
              " '_i8',\n",
              " '_i80',\n",
              " '_i81',\n",
              " '_i82',\n",
              " '_i83',\n",
              " '_i84',\n",
              " '_i85',\n",
              " '_i86',\n",
              " '_i87',\n",
              " '_i88',\n",
              " '_i89',\n",
              " '_i9',\n",
              " '_i90',\n",
              " '_i91',\n",
              " '_i92',\n",
              " '_i93',\n",
              " '_i94',\n",
              " '_i95',\n",
              " '_i96',\n",
              " '_i97',\n",
              " '_i98',\n",
              " '_i99',\n",
              " '_ih',\n",
              " '_ii',\n",
              " '_iii',\n",
              " '_oh',\n",
              " 'a_string',\n",
              " 'd',\n",
              " 'dict1',\n",
              " 'exit',\n",
              " 'get_ipython',\n",
              " 'item',\n",
              " 'list1',\n",
              " 'num',\n",
              " 'num1',\n",
              " 'num2',\n",
              " 'num3',\n",
              " 'num4',\n",
              " 'num5',\n",
              " 'num6',\n",
              " 'num7',\n",
              " 'num8',\n",
              " 'quit',\n",
              " 'r',\n",
              " 'set1',\n",
              " 'simple_string1',\n",
              " 'simple_string2',\n",
              " 't',\n",
              " 'total',\n",
              " 'tuple1',\n",
              " 'valor1',\n",
              " 'valor2',\n",
              " 'x',\n",
              " 'y',\n",
              " 'z']"
            ]
          },
          "metadata": {},
          "execution_count": 106
        }
      ]
    },
    {
      "cell_type": "code",
      "source": [
        "x = \"uma string\"\n",
        "dir(x)"
      ],
      "metadata": {
        "colab": {
          "base_uri": "https://localhost:8080/"
        },
        "id": "Bv7j7HwdXasc",
        "outputId": "3fb2e051-35c8-4eb0-83a4-47763b51c1fd"
      },
      "execution_count": 110,
      "outputs": [
        {
          "output_type": "execute_result",
          "data": {
            "text/plain": [
              "['__add__',\n",
              " '__class__',\n",
              " '__contains__',\n",
              " '__delattr__',\n",
              " '__dir__',\n",
              " '__doc__',\n",
              " '__eq__',\n",
              " '__format__',\n",
              " '__ge__',\n",
              " '__getattribute__',\n",
              " '__getitem__',\n",
              " '__getnewargs__',\n",
              " '__gt__',\n",
              " '__hash__',\n",
              " '__init__',\n",
              " '__init_subclass__',\n",
              " '__iter__',\n",
              " '__le__',\n",
              " '__len__',\n",
              " '__lt__',\n",
              " '__mod__',\n",
              " '__mul__',\n",
              " '__ne__',\n",
              " '__new__',\n",
              " '__reduce__',\n",
              " '__reduce_ex__',\n",
              " '__repr__',\n",
              " '__rmod__',\n",
              " '__rmul__',\n",
              " '__setattr__',\n",
              " '__sizeof__',\n",
              " '__str__',\n",
              " '__subclasshook__',\n",
              " 'capitalize',\n",
              " 'casefold',\n",
              " 'center',\n",
              " 'count',\n",
              " 'encode',\n",
              " 'endswith',\n",
              " 'expandtabs',\n",
              " 'find',\n",
              " 'format',\n",
              " 'format_map',\n",
              " 'index',\n",
              " 'isalnum',\n",
              " 'isalpha',\n",
              " 'isascii',\n",
              " 'isdecimal',\n",
              " 'isdigit',\n",
              " 'isidentifier',\n",
              " 'islower',\n",
              " 'isnumeric',\n",
              " 'isprintable',\n",
              " 'isspace',\n",
              " 'istitle',\n",
              " 'isupper',\n",
              " 'join',\n",
              " 'ljust',\n",
              " 'lower',\n",
              " 'lstrip',\n",
              " 'maketrans',\n",
              " 'partition',\n",
              " 'removeprefix',\n",
              " 'removesuffix',\n",
              " 'replace',\n",
              " 'rfind',\n",
              " 'rindex',\n",
              " 'rjust',\n",
              " 'rpartition',\n",
              " 'rsplit',\n",
              " 'rstrip',\n",
              " 'split',\n",
              " 'splitlines',\n",
              " 'startswith',\n",
              " 'strip',\n",
              " 'swapcase',\n",
              " 'title',\n",
              " 'translate',\n",
              " 'upper',\n",
              " 'zfill']"
            ]
          },
          "metadata": {},
          "execution_count": 110
        }
      ]
    },
    {
      "cell_type": "code",
      "source": [
        "y = 55\n",
        "dir(y)"
      ],
      "metadata": {
        "colab": {
          "base_uri": "https://localhost:8080/"
        },
        "id": "72tDY3TuXoZP",
        "outputId": "44742fdf-fd9f-4161-adb2-78f9b2be374f"
      },
      "execution_count": 111,
      "outputs": [
        {
          "output_type": "execute_result",
          "data": {
            "text/plain": [
              "['__abs__',\n",
              " '__add__',\n",
              " '__and__',\n",
              " '__bool__',\n",
              " '__ceil__',\n",
              " '__class__',\n",
              " '__delattr__',\n",
              " '__dir__',\n",
              " '__divmod__',\n",
              " '__doc__',\n",
              " '__eq__',\n",
              " '__float__',\n",
              " '__floor__',\n",
              " '__floordiv__',\n",
              " '__format__',\n",
              " '__ge__',\n",
              " '__getattribute__',\n",
              " '__getnewargs__',\n",
              " '__gt__',\n",
              " '__hash__',\n",
              " '__index__',\n",
              " '__init__',\n",
              " '__init_subclass__',\n",
              " '__int__',\n",
              " '__invert__',\n",
              " '__le__',\n",
              " '__lshift__',\n",
              " '__lt__',\n",
              " '__mod__',\n",
              " '__mul__',\n",
              " '__ne__',\n",
              " '__neg__',\n",
              " '__new__',\n",
              " '__or__',\n",
              " '__pos__',\n",
              " '__pow__',\n",
              " '__radd__',\n",
              " '__rand__',\n",
              " '__rdivmod__',\n",
              " '__reduce__',\n",
              " '__reduce_ex__',\n",
              " '__repr__',\n",
              " '__rfloordiv__',\n",
              " '__rlshift__',\n",
              " '__rmod__',\n",
              " '__rmul__',\n",
              " '__ror__',\n",
              " '__round__',\n",
              " '__rpow__',\n",
              " '__rrshift__',\n",
              " '__rshift__',\n",
              " '__rsub__',\n",
              " '__rtruediv__',\n",
              " '__rxor__',\n",
              " '__setattr__',\n",
              " '__sizeof__',\n",
              " '__str__',\n",
              " '__sub__',\n",
              " '__subclasshook__',\n",
              " '__truediv__',\n",
              " '__trunc__',\n",
              " '__xor__',\n",
              " 'as_integer_ratio',\n",
              " 'bit_count',\n",
              " 'bit_length',\n",
              " 'conjugate',\n",
              " 'denominator',\n",
              " 'from_bytes',\n",
              " 'imag',\n",
              " 'numerator',\n",
              " 'real',\n",
              " 'to_bytes']"
            ]
          },
          "metadata": {},
          "execution_count": 111
        }
      ]
    },
    {
      "cell_type": "markdown",
      "metadata": {
        "deletable": true,
        "editable": true,
        "id": "7IkVHEt9RfnD"
      },
      "source": [
        "## Alguns métodos para objetos string\n",
        "\n",
        "- **`.capitalize()`** retorna a versão da string com apenas a letra inicial maiúscula\n",
        "- **`.upper()`** retorna a versão da string com todos os caracteres maiúsculos\n",
        "- **`.lower()`** retorna a versão da string com todos os caracteres minúsculos\n",
        "- **`.count(substring)`** retorna o número de ocorrências de uma substring em uma string\n",
        "- **`.startswith(substring)`** determina se a string inicia com a substring\n",
        "- **`.endswith(substring)`** determina se a string termina com a substring\n",
        "- **`.replace(old, new)`** retorna uma cópia da string com as ocorrências de  \"old\" substituídas por \"new\""
      ]
    },
    {
      "cell_type": "code",
      "execution_count": 59,
      "metadata": {
        "deletable": true,
        "editable": true,
        "id": "-a99_SjGRfnD"
      },
      "outputs": [],
      "source": [
        "# Atribuir uma string a uma variável\n",
        "a_string = 'iSto é uma sTriNg'"
      ]
    },
    {
      "cell_type": "code",
      "execution_count": 60,
      "metadata": {
        "deletable": true,
        "editable": true,
        "colab": {
          "base_uri": "https://localhost:8080/",
          "height": 35
        },
        "id": "gQwNY7xDRfnE",
        "outputId": "248f3ecc-81ce-44bd-8039-71618668661d"
      },
      "outputs": [
        {
          "output_type": "execute_result",
          "data": {
            "text/plain": [
              "'Isto é uma string'"
            ],
            "application/vnd.google.colaboratory.intrinsic+json": {
              "type": "string"
            }
          },
          "metadata": {},
          "execution_count": 60
        }
      ],
      "source": [
        "# Retornar a versão de uma string com a primeira letra maiúscula\n",
        "a_string.capitalize()"
      ]
    },
    {
      "cell_type": "code",
      "execution_count": 61,
      "metadata": {
        "deletable": true,
        "editable": true,
        "colab": {
          "base_uri": "https://localhost:8080/",
          "height": 35
        },
        "id": "YZOwZ0QtRfnE",
        "outputId": "7503e3f7-6959-40aa-8deb-d298cf337b18"
      },
      "outputs": [
        {
          "output_type": "execute_result",
          "data": {
            "text/plain": [
              "'ISTO É UMA STRING'"
            ],
            "application/vnd.google.colaboratory.intrinsic+json": {
              "type": "string"
            }
          },
          "metadata": {},
          "execution_count": 61
        }
      ],
      "source": [
        "# Retornar a versão maiúscula de uma string\n",
        "a_string.upper()"
      ]
    },
    {
      "cell_type": "code",
      "execution_count": 62,
      "metadata": {
        "deletable": true,
        "editable": true,
        "colab": {
          "base_uri": "https://localhost:8080/",
          "height": 35
        },
        "id": "kRH1GdWiRfnE",
        "outputId": "1cd3bcd5-d0ec-4b1d-b36c-2bc19a393fd5"
      },
      "outputs": [
        {
          "output_type": "execute_result",
          "data": {
            "text/plain": [
              "'isto é uma string'"
            ],
            "application/vnd.google.colaboratory.intrinsic+json": {
              "type": "string"
            }
          },
          "metadata": {},
          "execution_count": 62
        }
      ],
      "source": [
        "# Retornar a versão minúscula de uma string\n",
        "a_string.lower()"
      ]
    },
    {
      "cell_type": "code",
      "execution_count": 63,
      "metadata": {
        "deletable": true,
        "editable": true,
        "colab": {
          "base_uri": "https://localhost:8080/",
          "height": 35
        },
        "id": "VVlyii0mRfnF",
        "outputId": "916875f7-ce3e-47ce-99ff-34757b0abfe0"
      },
      "outputs": [
        {
          "output_type": "execute_result",
          "data": {
            "text/plain": [
              "'iSto é uma sTriNg'"
            ],
            "application/vnd.google.colaboratory.intrinsic+json": {
              "type": "string"
            }
          },
          "metadata": {},
          "execution_count": 63
        }
      ],
      "source": [
        "# Observar que os métodos chamados realmente não modificam a string\n",
        "a_string"
      ]
    },
    {
      "cell_type": "code",
      "execution_count": 64,
      "metadata": {
        "deletable": true,
        "editable": true,
        "colab": {
          "base_uri": "https://localhost:8080/"
        },
        "id": "ymdr6i-rRfnF",
        "outputId": "97cc2c8b-86df-48bc-e7cc-cae184d6d83e"
      },
      "outputs": [
        {
          "output_type": "execute_result",
          "data": {
            "text/plain": [
              "2"
            ]
          },
          "metadata": {},
          "execution_count": 64
        }
      ],
      "source": [
        "# Contar o número de ocorrências de uma substring em uma string\n",
        "a_string.count('i')"
      ]
    },
    {
      "cell_type": "code",
      "execution_count": 65,
      "metadata": {
        "deletable": true,
        "editable": true,
        "colab": {
          "base_uri": "https://localhost:8080/"
        },
        "id": "hTGKihjvRfnF",
        "outputId": "be14ef86-c360-4311-9c7d-3795ce10173b"
      },
      "outputs": [
        {
          "output_type": "execute_result",
          "data": {
            "text/plain": [
              "1"
            ]
          },
          "metadata": {},
          "execution_count": 65
        }
      ],
      "source": [
        "# Contar o número de ocorrências de uma substring em uma string após uma determinada posição\n",
        "a_string.count('i', 7)"
      ]
    },
    {
      "cell_type": "code",
      "execution_count": 66,
      "metadata": {
        "deletable": true,
        "editable": true,
        "colab": {
          "base_uri": "https://localhost:8080/"
        },
        "id": "PD5YHUnpRfnG",
        "outputId": "3d89edc5-2eb4-428e-b5d2-9b8098f1b2c6"
      },
      "outputs": [
        {
          "output_type": "execute_result",
          "data": {
            "text/plain": [
              "0"
            ]
          },
          "metadata": {},
          "execution_count": 66
        }
      ],
      "source": [
        "# Contar o número de ocorrências de uma substring em uma string\n",
        "a_string.count('is')"
      ]
    },
    {
      "cell_type": "code",
      "execution_count": 67,
      "metadata": {
        "deletable": true,
        "editable": true,
        "colab": {
          "base_uri": "https://localhost:8080/"
        },
        "id": "bdpE5djWRfnG",
        "outputId": "f5c54979-d655-4bc2-97bc-cf2cfdb66aae"
      },
      "outputs": [
        {
          "output_type": "execute_result",
          "data": {
            "text/plain": [
              "False"
            ]
          },
          "metadata": {},
          "execution_count": 67
        }
      ],
      "source": [
        "# Verificar se a string começa com 'isto'\n",
        "a_string.startswith('isto')"
      ]
    },
    {
      "cell_type": "code",
      "execution_count": 68,
      "metadata": {
        "deletable": true,
        "editable": true,
        "colab": {
          "base_uri": "https://localhost:8080/"
        },
        "id": "wPo6Yl2jRfnH",
        "outputId": "f03e3921-d06e-4a88-efcd-e1611a36da95"
      },
      "outputs": [
        {
          "output_type": "execute_result",
          "data": {
            "text/plain": [
              "True"
            ]
          },
          "metadata": {},
          "execution_count": 68
        }
      ],
      "source": [
        "# Verificar se a string em minúsculo começa com 'isto'\n",
        "a_string.lower().startswith('isto')"
      ]
    },
    {
      "cell_type": "code",
      "execution_count": 69,
      "metadata": {
        "deletable": true,
        "editable": true,
        "colab": {
          "base_uri": "https://localhost:8080/"
        },
        "id": "hUg-gAvIRfnH",
        "outputId": "6c05e72b-df81-4db9-8f29-bd2d424681c8"
      },
      "outputs": [
        {
          "output_type": "execute_result",
          "data": {
            "text/plain": [
              "True"
            ]
          },
          "metadata": {},
          "execution_count": 69
        }
      ],
      "source": [
        "# Verificar se a string termina com 'Ng'\n",
        "a_string.endswith('Ng')"
      ]
    },
    {
      "cell_type": "code",
      "execution_count": 70,
      "metadata": {
        "deletable": true,
        "editable": true,
        "colab": {
          "base_uri": "https://localhost:8080/",
          "height": 35
        },
        "id": "wnTTCdDhRfnH",
        "outputId": "1c407f8b-0316-480e-b51a-1ce0fb975fd0"
      },
      "outputs": [
        {
          "output_type": "execute_result",
          "data": {
            "text/plain": [
              "'iSto deve ser uma sTriNg'"
            ],
            "application/vnd.google.colaboratory.intrinsic+json": {
              "type": "string"
            }
          },
          "metadata": {},
          "execution_count": 70
        }
      ],
      "source": [
        "# Retornar a versão de uma string com uma substring substituída por alguma coisa\n",
        "a_string.replace('é', 'deve ser')"
      ]
    },
    {
      "cell_type": "code",
      "execution_count": 71,
      "metadata": {
        "deletable": true,
        "editable": true,
        "colab": {
          "base_uri": "https://localhost:8080/",
          "height": 35
        },
        "id": "AGVsBGRRRfnI",
        "outputId": "8b093c62-0b29-4a0e-971e-70e1c7d73665"
      },
      "outputs": [
        {
          "output_type": "execute_result",
          "data": {
            "text/plain": [
              "'!Sto é uma sTr!Ng'"
            ],
            "application/vnd.google.colaboratory.intrinsic+json": {
              "type": "string"
            }
          },
          "metadata": {},
          "execution_count": 71
        }
      ],
      "source": [
        "# Retornar a versão de uma string com uma substring substituída por alguma coisa\n",
        "a_string.replace('i', '!')"
      ]
    },
    {
      "cell_type": "code",
      "execution_count": 72,
      "metadata": {
        "deletable": true,
        "editable": true,
        "colab": {
          "base_uri": "https://localhost:8080/",
          "height": 35
        },
        "id": "TzObDP18RfnI",
        "outputId": "e390a30e-c48d-4326-ac40-88b7fba58a78"
      },
      "outputs": [
        {
          "output_type": "execute_result",
          "data": {
            "text/plain": [
              "'!Sto é uma sTriNg'"
            ],
            "application/vnd.google.colaboratory.intrinsic+json": {
              "type": "string"
            }
          },
          "metadata": {},
          "execution_count": 72
        }
      ],
      "source": [
        "# Retornar a versão de uma string com a primeira ocorrência de uma substring substituída por alguma coisa\n",
        "a_string.replace('i', '!', 1)"
      ]
    },
    {
      "cell_type": "markdown",
      "metadata": {
        "collapsed": true,
        "deletable": true,
        "editable": true,
        "id": "V67Xrhj9RfnI"
      },
      "source": [
        "## Alguns métodos para listas de objetos\n",
        "\n",
        "- **`.append(item)`** inclui um único item na lista\n",
        "- **`.extend([item1, item2, ...])`** inclui múltiplos itens na lista\n",
        "- **`.remove(item)`** remove um único item da lista\n",
        "- **`.pop()`** remove e retorna o item no final da lista\n",
        "- **`.pop(index)`** remove e retorna o item na posição index"
      ]
    },
    {
      "cell_type": "code",
      "execution_count": 72,
      "metadata": {
        "collapsed": true,
        "deletable": true,
        "editable": true,
        "id": "mbrDL__2RfnJ"
      },
      "outputs": [],
      "source": []
    },
    {
      "cell_type": "code",
      "execution_count": 72,
      "metadata": {
        "collapsed": true,
        "deletable": true,
        "editable": true,
        "id": "RvotSPedRfnJ"
      },
      "outputs": [],
      "source": []
    },
    {
      "cell_type": "markdown",
      "metadata": {
        "deletable": true,
        "editable": true,
        "id": "S9TQ_0jIRfnJ"
      },
      "source": [
        "## Alguns métodos em objetos conjunto\n",
        "\n",
        "- **`.add(item)`** para incluir um único item no conjunto\n",
        "- **`.update([item1, item2, ...])`** para incluir múltiplos itens no conjunto\n",
        "- **`.update(set2, set3, ...)`** para incluir itens de outros conjuntos no conjunto\n",
        "- **`.remove(item)`** para remover um único item do conjunto\n",
        "- **`.pop()`** to remove and return a random item from the set\n",
        "- **`.difference(set2)`** to return items in the set that are not in another set\n",
        "- **`.intersection(set2)`** to return items in both sets\n",
        "- **`.union(set2)`** to return items that are in either set\n",
        "- **`.symmetric_difference(set2)`** to return items that are only in one set (not both)\n",
        "- **`.issuperset(set2)`** does the set contain everything in the other set?\n",
        "- **`.issubset(set2)`** is the set contained in the other set?"
      ]
    },
    {
      "cell_type": "code",
      "execution_count": 72,
      "metadata": {
        "collapsed": true,
        "deletable": true,
        "editable": true,
        "id": "aJZybj72RfnJ"
      },
      "outputs": [],
      "source": []
    },
    {
      "cell_type": "code",
      "execution_count": 72,
      "metadata": {
        "collapsed": true,
        "deletable": true,
        "editable": true,
        "id": "hm6QPDyCRfnK"
      },
      "outputs": [],
      "source": []
    },
    {
      "cell_type": "markdown",
      "metadata": {
        "deletable": true,
        "editable": true,
        "id": "tD2YBMxkRfnK"
      },
      "source": [
        "## Some methods on dict objects\n",
        "\n",
        "- **`.update([(key1, val1), (key2, val2), ...])`** to add multiple key-value pairs to the dict\n",
        "- **`.update(dict2)`** to add all keys and values from another dict to the dict\n",
        "- **`.pop(key)`** to remove key and return its value from the dict (error if key not found)\n",
        "- **`.pop(key, default_val)`** to remove key and return its value from the dict (or return default_val if key not found)\n",
        "- **`.get(key)`** to return the value at a specified key in the dict (or None if key not found)\n",
        "- **`.get(key, default_val)`** to return the value at a specified key in the dict (or default_val if key not found)\n",
        "- **`.keys()`** to return a list of keys in the dict\n",
        "- **`.values()`** to return a list of values in the dict\n",
        "- **`.items()`** to return a list of key-value pairs (tuples) in the dict"
      ]
    },
    {
      "cell_type": "code",
      "execution_count": 72,
      "metadata": {
        "collapsed": true,
        "deletable": true,
        "editable": true,
        "id": "XW_X2n1HRfnK"
      },
      "outputs": [],
      "source": []
    },
    {
      "cell_type": "code",
      "execution_count": 72,
      "metadata": {
        "deletable": true,
        "editable": true,
        "id": "LlvPt6ipRfnK"
      },
      "outputs": [],
      "source": []
    },
    {
      "cell_type": "markdown",
      "metadata": {
        "deletable": true,
        "editable": true,
        "id": "US_g3N-eRfnK"
      },
      "source": [
        "## Positional arguments and keyword arguments to callables\n",
        "\n",
        "You can call a function/method in a number of different ways:\n",
        "\n",
        "- `func()`: Call `func` with no arguments\n",
        "- `func(arg)`: Call `func` with one positional argument\n",
        "- `func(arg1, arg2)`: Call `func` with two positional arguments\n",
        "- `func(arg1, arg2, ..., argn)`: Call `func` with many positional arguments\n",
        "- `func(kwarg=value)`: Call `func` with one keyword argument\n",
        "- `func(kwarg1=value1, kwarg2=value2)`: Call `func` with two keyword arguments\n",
        "- `func(kwarg1=value1, kwarg2=value2, ..., kwargn=valuen)`: Call `func` with many keyword arguments\n",
        "- `func(arg1, arg2, kwarg1=value1, kwarg2=value2)`: Call `func` with positonal arguments and keyword arguments\n",
        "- `obj.method()`: Same for `func`.. and every other `func` example\n",
        "\n",
        "When using **positional arguments**, you must provide them in the order that the function defined them (the function's **signature**).\n",
        "\n",
        "When using **keyword arguments**, you can provide the arguments you want, in any order you want, as long as you specify each argument's name.\n",
        "\n",
        "When using positional and keyword arguments, positional arguments must come first."
      ]
    },
    {
      "cell_type": "code",
      "execution_count": 72,
      "metadata": {
        "collapsed": true,
        "deletable": true,
        "editable": true,
        "id": "FlTzVmRMRfnL"
      },
      "outputs": [],
      "source": []
    },
    {
      "cell_type": "code",
      "execution_count": 72,
      "metadata": {
        "collapsed": true,
        "deletable": true,
        "editable": true,
        "id": "JXWqE6XoRfnL"
      },
      "outputs": [],
      "source": []
    },
    {
      "cell_type": "markdown",
      "metadata": {
        "deletable": true,
        "editable": true,
        "id": "WGb7n6cpRfnL"
      },
      "source": [
        "## Formatting strings and using placeholders"
      ]
    },
    {
      "cell_type": "code",
      "execution_count": 72,
      "metadata": {
        "collapsed": true,
        "deletable": true,
        "editable": true,
        "id": "b7iItHJORfnL"
      },
      "outputs": [],
      "source": []
    },
    {
      "cell_type": "code",
      "execution_count": 72,
      "metadata": {
        "collapsed": true,
        "deletable": true,
        "editable": true,
        "id": "1fig5ufpRfnL"
      },
      "outputs": [],
      "source": []
    },
    {
      "cell_type": "markdown",
      "metadata": {
        "deletable": true,
        "editable": true,
        "id": "ImnoOEfURfnM"
      },
      "source": [
        "## Python \"for loops\"\n",
        "\n",
        "It is easy to **iterate** over a collection of items using a **for loop**. The strings, lists, tuples, sets, and dictionaries we defined are all **iterable** containers.\n",
        "\n",
        "The for loop will go through the specified container, one item at a time, and provide a temporary variable for the current item. You can use this temporary variable like a normal variable."
      ]
    },
    {
      "cell_type": "code",
      "execution_count": 73,
      "metadata": {
        "collapsed": true,
        "deletable": true,
        "editable": true,
        "colab": {
          "base_uri": "https://localhost:8080/"
        },
        "id": "uPs4SivRRfnM",
        "outputId": "09e413f4-84c4-4686-c78b-d4e0f255b8d2"
      },
      "outputs": [
        {
          "output_type": "stream",
          "name": "stdout",
          "text": [
            "12.1\n"
          ]
        }
      ],
      "source": [
        "# Uma função for básica\n",
        "total = 0\n",
        "for num in (-22.0, 3.5, 8.1, -10, 0.5):\n",
        "    if num > 0:\n",
        "        total = total + num\n",
        "print(total)"
      ]
    },
    {
      "cell_type": "code",
      "source": [
        "# exemplo de interrupção do for\n",
        "for item in [1, 2, 3, 4, 5]:\n",
        "     if item == 3:\n",
        "         print(item, \" ...break!\")\n",
        "         break\n",
        "     print(item, \" ...Próxima iteração\")"
      ],
      "metadata": {
        "colab": {
          "base_uri": "https://localhost:8080/"
        },
        "id": "lepJy-savnev",
        "outputId": "545e9b3e-1e85-4158-ea42-4506bbf63dce"
      },
      "execution_count": 74,
      "outputs": [
        {
          "output_type": "stream",
          "name": "stdout",
          "text": [
            "1  ...Próxima iteração\n",
            "2  ...Próxima iteração\n",
            "3  ...break!\n"
          ]
        }
      ]
    },
    {
      "cell_type": "markdown",
      "metadata": {
        "deletable": true,
        "editable": true,
        "id": "yX24FtWxRfnN"
      },
      "source": [
        "## Python \"if statements\" and \"while loops\"\n",
        "\n",
        "Conditional expressions can be used with these two **conditional statements**.\n",
        "\n",
        "The **if statement** allows you to test a condition and perform some actions if the condition evaluates to `True`. You can also provide `elif` and/or `else` clauses to an if statement to take alternative actions if the condition evaluates to `False`.\n",
        "\n",
        "The **while loop** will keep looping until its conditional expression evaluates to `False`.\n",
        "\n",
        "> Note: It is possible to \"loop forever\" when using a while loop with a conditional expression that never evaluates to `False`.\n",
        ">\n",
        "> Note: Since the **for loop** will iterate over a container of items until there are no more, there is no need to specify a \"stop looping\" condition."
      ]
    },
    {
      "cell_type": "code",
      "source": [],
      "metadata": {
        "id": "uhpD_2-MwkX7"
      },
      "execution_count": 74,
      "outputs": []
    },
    {
      "cell_type": "code",
      "execution_count": 75,
      "metadata": {
        "collapsed": true,
        "deletable": true,
        "editable": true,
        "colab": {
          "base_uri": "https://localhost:8080/"
        },
        "id": "jxc_bMNmRfnM",
        "outputId": "b8a522f7-b7ca-4d84-bbdd-7bced3751618"
      },
      "outputs": [
        {
          "output_type": "stream",
          "name": "stdout",
          "text": [
            "2\n"
          ]
        }
      ],
      "source": [
        "# Uma função while-loop básica\n",
        "total = 0\n",
        "while total < 2:\n",
        "    total += 1  # equivalente a: `total = total + 1`\n",
        "\n",
        "print(total)  # `total` tem valor 2"
      ]
    },
    {
      "cell_type": "code",
      "source": [
        "x = 1\n",
        "while x < 4:\n",
        "     print(\"x = \", x, \">> entrando no corpo do loop <<\")\n",
        "     if x == 2:\n",
        "         print(\"x = \", x, \" continue...volta ao início do loop!\")\n",
        "         x += 1\n",
        "         continue\n",
        "     x += 1\n",
        "     print(\"--alcançado o fim do corpo do loop--\")"
      ],
      "metadata": {
        "colab": {
          "base_uri": "https://localhost:8080/"
        },
        "id": "Lhm66Zfnv8rk",
        "outputId": "6c08f329-4e27-4f9d-9152-f8c853a2a908"
      },
      "execution_count": 76,
      "outputs": [
        {
          "output_type": "stream",
          "name": "stdout",
          "text": [
            "x =  1 >> entrando no corpo do loop <<\n",
            "--alcançado o fim do corpo do loop--\n",
            "x =  2 >> entrando no corpo do loop <<\n",
            "x =  2  continue...volta ao início do loop!\n",
            "x =  3 >> entrando no corpo do loop <<\n",
            "--alcançado o fim do corpo do loop--\n"
          ]
        }
      ]
    },
    {
      "cell_type": "code",
      "execution_count": 76,
      "metadata": {
        "collapsed": true,
        "deletable": true,
        "editable": true,
        "id": "JD7fVS48RfnO"
      },
      "outputs": [],
      "source": []
    },
    {
      "cell_type": "code",
      "execution_count": 76,
      "metadata": {
        "collapsed": true,
        "deletable": true,
        "editable": true,
        "id": "nSR0bsA1RfnO"
      },
      "outputs": [],
      "source": []
    },
    {
      "cell_type": "markdown",
      "metadata": {
        "deletable": true,
        "editable": true,
        "id": "l30r5pn8RfnP"
      },
      "source": [
        "## List, set, and dict comprehensions"
      ]
    },
    {
      "cell_type": "code",
      "execution_count": 76,
      "metadata": {
        "collapsed": true,
        "deletable": true,
        "editable": true,
        "id": "lKkWuiFURfnP"
      },
      "outputs": [],
      "source": []
    },
    {
      "cell_type": "code",
      "execution_count": 76,
      "metadata": {
        "collapsed": true,
        "deletable": true,
        "editable": true,
        "id": "51DkaNduRfnP"
      },
      "outputs": [],
      "source": []
    },
    {
      "cell_type": "markdown",
      "metadata": {
        "deletable": true,
        "editable": true,
        "id": "q_tw6U-KRfnQ"
      },
      "source": [
        "## Creating objects from arguments or other objects\n",
        "\n",
        "The basic types and containers we have used so far all provide **type constructors**:\n",
        "\n",
        "- `int()`\n",
        "- `float()`\n",
        "- `str()`\n",
        "- `list()`\n",
        "- `tuple()`\n",
        "- `set()`\n",
        "- `dict()`\n",
        "\n",
        "Up to this point, we have been defining objects of these built-in types using some syntactic shortcuts, since they are so common.\n",
        "\n",
        "Sometimes, you will have an object of one type that you need to convert to another type. Use the **type constructor** for the type of object you want to have, and pass in the object you currently have."
      ]
    },
    {
      "cell_type": "code",
      "execution_count": 76,
      "metadata": {
        "collapsed": true,
        "deletable": true,
        "editable": true,
        "id": "nzSNYLhNRfnQ"
      },
      "outputs": [],
      "source": []
    },
    {
      "cell_type": "code",
      "execution_count": 76,
      "metadata": {
        "collapsed": true,
        "deletable": true,
        "editable": true,
        "id": "doeAD05mRfnQ"
      },
      "outputs": [],
      "source": []
    },
    {
      "cell_type": "markdown",
      "metadata": {
        "deletable": true,
        "editable": true,
        "id": "swuwLUrXRfnR"
      },
      "source": [
        "## Importing modules"
      ]
    },
    {
      "cell_type": "code",
      "execution_count": 76,
      "metadata": {
        "collapsed": true,
        "deletable": true,
        "editable": true,
        "id": "xe4N2UerRfnR"
      },
      "outputs": [],
      "source": []
    },
    {
      "cell_type": "code",
      "execution_count": 76,
      "metadata": {
        "collapsed": true,
        "deletable": true,
        "editable": true,
        "id": "CmrgLGXTRfnR"
      },
      "outputs": [],
      "source": []
    },
    {
      "cell_type": "markdown",
      "metadata": {
        "deletable": true,
        "editable": true,
        "id": "v7qR87rQRfnR"
      },
      "source": [
        "## Exceptions"
      ]
    },
    {
      "cell_type": "code",
      "execution_count": 76,
      "metadata": {
        "collapsed": true,
        "deletable": true,
        "editable": true,
        "id": "JrbJgEOoRfnS"
      },
      "outputs": [],
      "source": []
    },
    {
      "cell_type": "code",
      "execution_count": 76,
      "metadata": {
        "collapsed": true,
        "deletable": true,
        "editable": true,
        "id": "hGW2_FxsRfnS"
      },
      "outputs": [],
      "source": []
    },
    {
      "cell_type": "markdown",
      "metadata": {
        "deletable": true,
        "editable": true,
        "id": "zArHhKzARfnS"
      },
      "source": [
        "## Classes: Creating your own objects"
      ]
    },
    {
      "cell_type": "code",
      "execution_count": 77,
      "metadata": {
        "collapsed": true,
        "deletable": true,
        "editable": true,
        "id": "KSn5BrAHRfnS"
      },
      "outputs": [],
      "source": [
        "# Define a new class called `Thing` that is derived from the base Python object\n",
        "class Thing(object):\n",
        "    my_property = 'I am a \"Thing\"'\n",
        "\n",
        "\n",
        "# Define a new class called `DictThing` that is derived from the `dict` type\n",
        "class DictThing(dict):\n",
        "    my_property = 'I am a \"DictThing\"'"
      ]
    },
    {
      "cell_type": "code",
      "execution_count": 78,
      "metadata": {
        "deletable": true,
        "editable": true,
        "colab": {
          "base_uri": "https://localhost:8080/"
        },
        "id": "3dXx-wBKRfnT",
        "outputId": "db35afb7-3c18-459a-829e-d1bfb9ac3e48"
      },
      "outputs": [
        {
          "output_type": "stream",
          "name": "stdout",
          "text": [
            "<class '__main__.Thing'>\n",
            "<class 'type'>\n",
            "<class '__main__.DictThing'>\n",
            "<class 'type'>\n",
            "True\n",
            "True\n"
          ]
        }
      ],
      "source": [
        "print(Thing)\n",
        "print(type(Thing))\n",
        "print(DictThing)\n",
        "print(type(DictThing))\n",
        "print(issubclass(DictThing, dict))\n",
        "print(issubclass(DictThing, object))"
      ]
    },
    {
      "cell_type": "code",
      "execution_count": 79,
      "metadata": {
        "deletable": true,
        "editable": true,
        "colab": {
          "base_uri": "https://localhost:8080/"
        },
        "id": "EqqWBdJgRfnT",
        "outputId": "fd5a9d52-bd6d-4c1b-9edb-4c2a53aa1ad5"
      },
      "outputs": [
        {
          "output_type": "stream",
          "name": "stdout",
          "text": [
            "<__main__.Thing object at 0x7f20c1950e50>\n",
            "<class '__main__.Thing'>\n",
            "{}\n",
            "<class '__main__.DictThing'>\n"
          ]
        }
      ],
      "source": [
        "# Create \"instances\" of our new classes\n",
        "t = Thing()\n",
        "d = DictThing()\n",
        "print(t)\n",
        "print(type(t))\n",
        "print(d)\n",
        "print(type(d))"
      ]
    },
    {
      "cell_type": "code",
      "execution_count": 80,
      "metadata": {
        "deletable": true,
        "editable": true,
        "colab": {
          "base_uri": "https://localhost:8080/"
        },
        "id": "PpVP8DgrRfnT",
        "outputId": "7b9e4e7f-666e-4208-e7e6-d612009fe20a"
      },
      "outputs": [
        {
          "output_type": "stream",
          "name": "stdout",
          "text": [
            "{'name': 'Sally'}\n"
          ]
        }
      ],
      "source": [
        "# Interact with a DictThing instance just as you would a normal dictionary\n",
        "d['name'] = 'Sally'\n",
        "print(d)"
      ]
    },
    {
      "cell_type": "code",
      "execution_count": 81,
      "metadata": {
        "deletable": true,
        "editable": true,
        "colab": {
          "base_uri": "https://localhost:8080/"
        },
        "id": "ZV4T62W9RfnT",
        "outputId": "9623452b-a86a-46de-cf89-2e9470341bb7"
      },
      "outputs": [
        {
          "output_type": "stream",
          "name": "stdout",
          "text": [
            "{'name': 'Sally', 'age': 13, 'fav_foods': ['pizza', 'sushi', 'pad thai', 'waffles'], 'fav_color': 'green'}\n"
          ]
        }
      ],
      "source": [
        "d.update({\n",
        "        'age': 13,\n",
        "        'fav_foods': ['pizza', 'sushi', 'pad thai', 'waffles'],\n",
        "        'fav_color': 'green',\n",
        "    })\n",
        "print(d)"
      ]
    },
    {
      "cell_type": "code",
      "execution_count": 82,
      "metadata": {
        "deletable": true,
        "editable": true,
        "colab": {
          "base_uri": "https://localhost:8080/"
        },
        "id": "z1YWxBjPRfnU",
        "outputId": "67f25acc-5876-4edf-9a55-cc453ab58f39"
      },
      "outputs": [
        {
          "output_type": "stream",
          "name": "stdout",
          "text": [
            "I am a \"DictThing\"\n"
          ]
        }
      ],
      "source": [
        "print(d.my_property)"
      ]
    },
    {
      "cell_type": "markdown",
      "metadata": {
        "deletable": true,
        "editable": true,
        "id": "eDtzzdMQRfnU"
      },
      "source": [
        "## Defining functions and methods"
      ]
    },
    {
      "cell_type": "code",
      "execution_count": 82,
      "metadata": {
        "collapsed": true,
        "deletable": true,
        "editable": true,
        "id": "KQAvmDVoRfnV"
      },
      "outputs": [],
      "source": []
    },
    {
      "cell_type": "code",
      "execution_count": 82,
      "metadata": {
        "collapsed": true,
        "deletable": true,
        "editable": true,
        "id": "keqsOw6IRfnV"
      },
      "outputs": [],
      "source": []
    },
    {
      "cell_type": "markdown",
      "metadata": {
        "deletable": true,
        "editable": true,
        "id": "0b-dDjxXRfnV"
      },
      "source": [
        "## Creating an initializer method for your classes"
      ]
    },
    {
      "cell_type": "code",
      "execution_count": 82,
      "metadata": {
        "collapsed": true,
        "deletable": true,
        "editable": true,
        "id": "za6uDx7ORfnV"
      },
      "outputs": [],
      "source": []
    },
    {
      "cell_type": "code",
      "execution_count": 82,
      "metadata": {
        "collapsed": true,
        "deletable": true,
        "editable": true,
        "id": "X9NsGJtFRfnW"
      },
      "outputs": [],
      "source": []
    },
    {
      "cell_type": "markdown",
      "metadata": {
        "deletable": true,
        "editable": true,
        "id": "jYAUUm7JRfnX"
      },
      "source": [
        "## Other \"magic methods\""
      ]
    },
    {
      "cell_type": "code",
      "execution_count": 82,
      "metadata": {
        "collapsed": true,
        "deletable": true,
        "editable": true,
        "id": "WXCxnjWWRfnX"
      },
      "outputs": [],
      "source": []
    },
    {
      "cell_type": "code",
      "execution_count": 82,
      "metadata": {
        "collapsed": true,
        "deletable": true,
        "editable": true,
        "id": "lduWPZKDRfnX"
      },
      "outputs": [],
      "source": []
    },
    {
      "cell_type": "markdown",
      "metadata": {
        "deletable": true,
        "editable": true,
        "id": "8zbMFPAhRfnX"
      },
      "source": [
        "## Context managers and the \"with statement\""
      ]
    },
    {
      "cell_type": "code",
      "execution_count": 82,
      "metadata": {
        "collapsed": true,
        "deletable": true,
        "editable": true,
        "id": "t17Uy8sGRfnX"
      },
      "outputs": [],
      "source": []
    },
    {
      "cell_type": "code",
      "execution_count": 82,
      "metadata": {
        "collapsed": true,
        "deletable": true,
        "editable": true,
        "id": "iEJwVJsMRfnX"
      },
      "outputs": [],
      "source": []
    }
  ],
  "metadata": {
    "kernelspec": {
      "display_name": "Python 3",
      "language": "python",
      "name": "python3"
    },
    "language_info": {
      "codemirror_mode": {
        "name": "ipython",
        "version": 3
      },
      "file_extension": ".py",
      "mimetype": "text/x-python",
      "name": "python",
      "nbconvert_exporter": "python",
      "pygments_lexer": "ipython3",
      "version": "3.5.2"
    },
    "colab": {
      "provenance": []
    }
  },
  "nbformat": 4,
  "nbformat_minor": 0
}